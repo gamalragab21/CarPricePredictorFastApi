{
 "cells": [
  {
   "cell_type": "code",
   "execution_count": 103,
   "id": "fae04117-b6cc-4bf7-9bf2-470e1d376894",
   "metadata": {
    "id": "fae04117-b6cc-4bf7-9bf2-470e1d376894"
   },
   "outputs": [],
   "source": [
    "\n",
    "import numpy as np\n",
    "import scipy.stats as st\n",
    "import pandas as pd\n",
    "import seaborn as sns\n",
    "import matplotlib.pyplot as plt\n",
    "import plotly.express as px\n",
    "import missingno\n",
    "import datetime as dt\n",
    "import category_encoders as ce\n",
    "from sklearn.model_selection import train_test_split\n",
    "from sklearn.preprocessing import StandardScaler,PowerTransformer\n",
    "from sklearn.ensemble import RandomForestRegressor\n",
    "from sklearn.linear_model import LinearRegression\n",
    "from xgboost import XGBRegressor\n",
    "from sklearn.impute import SimpleImputer\n",
    "from sklearn.metrics import mean_absolute_error,mean_squared_error,mean_absolute_percentage_error\n",
    "from sklearn.model_selection import cross_val_score\n",
    "from sklearn.metrics import r2_score\n",
    "from sklearn.model_selection import GridSearchCV\n",
    "from sklearn.pipeline import Pipeline,FeatureUnion\n",
    "from sklearn_features.transformers import DataFrameSelector\n",
    "from sklearn.compose import ColumnTransformer\n"
   ]
  },
  {
   "cell_type": "markdown",
   "id": "117a1cd1-128e-4e80-8fb2-47e49407fefc",
   "metadata": {
    "id": "117a1cd1-128e-4e80-8fb2-47e49407fefc"
   },
   "source": [
    "# Reading and Understanding the data"
   ]
  },
  {
   "cell_type": "code",
   "execution_count": 20,
   "id": "365b113f-9dbf-4f0e-b837-919178cec6b9",
   "metadata": {
    "id": "365b113f-9dbf-4f0e-b837-919178cec6b9"
   },
   "outputs": [],
   "source": [
    "sns.set_style(\"darkgrid\")"
   ]
  },
  {
   "cell_type": "code",
   "execution_count": 54,
   "id": "59a2a671-6158-427c-a034-2ed6de45d1c1",
   "metadata": {
    "colab": {
     "base_uri": "https://localhost:8080/",
     "height": 354
    },
    "id": "59a2a671-6158-427c-a034-2ed6de45d1c1",
    "outputId": "e9e7db54-24c9-46ee-a0db-79a0df7a0eb4"
   },
   "outputs": [
    {
     "data": {
      "text/html": [
       "<div>\n",
       "<style scoped>\n",
       "    .dataframe tbody tr th:only-of-type {\n",
       "        vertical-align: middle;\n",
       "    }\n",
       "\n",
       "    .dataframe tbody tr th {\n",
       "        vertical-align: top;\n",
       "    }\n",
       "\n",
       "    .dataframe thead th {\n",
       "        text-align: right;\n",
       "    }\n",
       "</style>\n",
       "<table border=\"1\" class=\"dataframe\">\n",
       "  <thead>\n",
       "    <tr style=\"text-align: right;\">\n",
       "      <th></th>\n",
       "      <th>price</th>\n",
       "      <th>levy</th>\n",
       "      <th>manufacturer</th>\n",
       "      <th>model</th>\n",
       "      <th>category</th>\n",
       "      <th>leather_interior</th>\n",
       "      <th>fuel_type</th>\n",
       "      <th>engine_volume</th>\n",
       "      <th>mileage</th>\n",
       "      <th>cylinders</th>\n",
       "      <th>gear_box_type</th>\n",
       "      <th>drive_wheels</th>\n",
       "      <th>doors</th>\n",
       "      <th>wheel</th>\n",
       "      <th>color</th>\n",
       "      <th>airbags</th>\n",
       "      <th>engine_turbo</th>\n",
       "      <th>age</th>\n",
       "    </tr>\n",
       "  </thead>\n",
       "  <tbody>\n",
       "    <tr>\n",
       "      <th>0</th>\n",
       "      <td>13328.0</td>\n",
       "      <td>1399.0</td>\n",
       "      <td>LEXUS</td>\n",
       "      <td>RX 450</td>\n",
       "      <td>Jeep</td>\n",
       "      <td>Yes</td>\n",
       "      <td>Hybrid</td>\n",
       "      <td>3.5</td>\n",
       "      <td>186005.0</td>\n",
       "      <td>6.0</td>\n",
       "      <td>Automatic</td>\n",
       "      <td>4x4</td>\n",
       "      <td>4-5</td>\n",
       "      <td>Left wheel</td>\n",
       "      <td>Silver</td>\n",
       "      <td>12.0</td>\n",
       "      <td>0</td>\n",
       "      <td>13</td>\n",
       "    </tr>\n",
       "    <tr>\n",
       "      <th>1</th>\n",
       "      <td>16621.0</td>\n",
       "      <td>1018.0</td>\n",
       "      <td>CHEVROLET</td>\n",
       "      <td>Equinox</td>\n",
       "      <td>Jeep</td>\n",
       "      <td>No</td>\n",
       "      <td>Petrol</td>\n",
       "      <td>3.0</td>\n",
       "      <td>192000.0</td>\n",
       "      <td>6.0</td>\n",
       "      <td>Tiptronic</td>\n",
       "      <td>4x4</td>\n",
       "      <td>4-5</td>\n",
       "      <td>Left wheel</td>\n",
       "      <td>Black</td>\n",
       "      <td>8.0</td>\n",
       "      <td>0</td>\n",
       "      <td>12</td>\n",
       "    </tr>\n",
       "    <tr>\n",
       "      <th>2</th>\n",
       "      <td>8467.0</td>\n",
       "      <td>0.0</td>\n",
       "      <td>HONDA</td>\n",
       "      <td>FIT</td>\n",
       "      <td>Hatchback</td>\n",
       "      <td>No</td>\n",
       "      <td>Petrol</td>\n",
       "      <td>1.3</td>\n",
       "      <td>200000.0</td>\n",
       "      <td>4.0</td>\n",
       "      <td>Variator</td>\n",
       "      <td>Front</td>\n",
       "      <td>4-5</td>\n",
       "      <td>Right-hand drive</td>\n",
       "      <td>Black</td>\n",
       "      <td>2.0</td>\n",
       "      <td>0</td>\n",
       "      <td>17</td>\n",
       "    </tr>\n",
       "    <tr>\n",
       "      <th>3</th>\n",
       "      <td>3607.0</td>\n",
       "      <td>862.0</td>\n",
       "      <td>FORD</td>\n",
       "      <td>Escape</td>\n",
       "      <td>Jeep</td>\n",
       "      <td>Yes</td>\n",
       "      <td>Hybrid</td>\n",
       "      <td>2.5</td>\n",
       "      <td>168966.0</td>\n",
       "      <td>4.0</td>\n",
       "      <td>Automatic</td>\n",
       "      <td>4x4</td>\n",
       "      <td>4-5</td>\n",
       "      <td>Left wheel</td>\n",
       "      <td>White</td>\n",
       "      <td>0.0</td>\n",
       "      <td>0</td>\n",
       "      <td>12</td>\n",
       "    </tr>\n",
       "    <tr>\n",
       "      <th>4</th>\n",
       "      <td>11726.0</td>\n",
       "      <td>446.0</td>\n",
       "      <td>HONDA</td>\n",
       "      <td>FIT</td>\n",
       "      <td>Hatchback</td>\n",
       "      <td>Yes</td>\n",
       "      <td>Petrol</td>\n",
       "      <td>1.3</td>\n",
       "      <td>91901.0</td>\n",
       "      <td>4.0</td>\n",
       "      <td>Automatic</td>\n",
       "      <td>Front</td>\n",
       "      <td>4-5</td>\n",
       "      <td>Left wheel</td>\n",
       "      <td>Silver</td>\n",
       "      <td>4.0</td>\n",
       "      <td>0</td>\n",
       "      <td>9</td>\n",
       "    </tr>\n",
       "  </tbody>\n",
       "</table>\n",
       "</div>"
      ],
      "text/plain": [
       "     price    levy manufacturer    model   category leather_interior   \n",
       "0  13328.0  1399.0        LEXUS   RX 450       Jeep              Yes  \\\n",
       "1  16621.0  1018.0    CHEVROLET  Equinox       Jeep               No   \n",
       "2   8467.0     0.0        HONDA      FIT  Hatchback               No   \n",
       "3   3607.0   862.0         FORD   Escape       Jeep              Yes   \n",
       "4  11726.0   446.0        HONDA      FIT  Hatchback              Yes   \n",
       "\n",
       "  fuel_type  engine_volume   mileage  cylinders gear_box_type drive_wheels   \n",
       "0    Hybrid            3.5  186005.0        6.0     Automatic          4x4  \\\n",
       "1    Petrol            3.0  192000.0        6.0     Tiptronic          4x4   \n",
       "2    Petrol            1.3  200000.0        4.0      Variator        Front   \n",
       "3    Hybrid            2.5  168966.0        4.0     Automatic          4x4   \n",
       "4    Petrol            1.3   91901.0        4.0     Automatic        Front   \n",
       "\n",
       "  doors             wheel   color  airbags  engine_turbo  age  \n",
       "0   4-5        Left wheel  Silver     12.0             0   13  \n",
       "1   4-5        Left wheel   Black      8.0             0   12  \n",
       "2   4-5  Right-hand drive   Black      2.0             0   17  \n",
       "3   4-5        Left wheel   White      0.0             0   12  \n",
       "4   4-5        Left wheel  Silver      4.0             0    9  "
      ]
     },
     "execution_count": 54,
     "metadata": {},
     "output_type": "execute_result"
    }
   ],
   "source": [
    "df=pd.read_csv(\"car_price_cleaned.csv\")\n",
    "df.head()"
   ]
  },
  {
   "cell_type": "code",
   "execution_count": 55,
   "id": "88475aac-d899-4acf-920c-bb5d7af70e21",
   "metadata": {
    "colab": {
     "base_uri": "https://localhost:8080/"
    },
    "id": "88475aac-d899-4acf-920c-bb5d7af70e21",
    "outputId": "87403848-e930-44d8-f9ef-428a7a22b36f"
   },
   "outputs": [
    {
     "data": {
      "text/plain": [
       "(18042, 18)"
      ]
     },
     "execution_count": 55,
     "metadata": {},
     "output_type": "execute_result"
    }
   ],
   "source": [
    "df.shape"
   ]
  },
  {
   "cell_type": "code",
   "execution_count": 56,
   "id": "f95d5612-7b05-4881-a31a-8d4f6815617e",
   "metadata": {
    "colab": {
     "base_uri": "https://localhost:8080/"
    },
    "id": "f95d5612-7b05-4881-a31a-8d4f6815617e",
    "outputId": "5762bfb3-d862-4f8c-d3bc-253729e5e746"
   },
   "outputs": [
    {
     "name": "stdout",
     "output_type": "stream",
     "text": [
      "<class 'pandas.core.frame.DataFrame'>\n",
      "RangeIndex: 18042 entries, 0 to 18041\n",
      "Data columns (total 18 columns):\n",
      " #   Column            Non-Null Count  Dtype  \n",
      "---  ------            --------------  -----  \n",
      " 0   price             18042 non-null  float64\n",
      " 1   levy              18042 non-null  float64\n",
      " 2   manufacturer      18042 non-null  object \n",
      " 3   model             18042 non-null  object \n",
      " 4   category          18042 non-null  object \n",
      " 5   leather_interior  18042 non-null  object \n",
      " 6   fuel_type         18042 non-null  object \n",
      " 7   engine_volume     18042 non-null  float64\n",
      " 8   mileage           18042 non-null  float64\n",
      " 9   cylinders         18042 non-null  float64\n",
      " 10  gear_box_type     18042 non-null  object \n",
      " 11  drive_wheels      18042 non-null  object \n",
      " 12  doors             18042 non-null  object \n",
      " 13  wheel             18042 non-null  object \n",
      " 14  color             18042 non-null  object \n",
      " 15  airbags           18042 non-null  float64\n",
      " 16  engine_turbo      18042 non-null  int64  \n",
      " 17  age               18042 non-null  int64  \n",
      "dtypes: float64(6), int64(2), object(10)\n",
      "memory usage: 2.5+ MB\n"
     ]
    }
   ],
   "source": [
    "df.info()"
   ]
  },
  {
   "cell_type": "markdown",
   "id": "b916fd5d-3034-410b-9a89-07ac7eb3e011",
   "metadata": {
    "id": "b916fd5d-3034-410b-9a89-07ac7eb3e011"
   },
   "source": [
    "## Pipline"
   ]
  },
  {
   "cell_type": "code",
   "execution_count": 57,
   "id": "a5671046-4aef-48d7-a308-113419b42ac5",
   "metadata": {},
   "outputs": [
    {
     "data": {
      "text/plain": [
       "((18042, 17), (18042,))"
      ]
     },
     "execution_count": 57,
     "metadata": {},
     "output_type": "execute_result"
    }
   ],
   "source": [
    "X=df.drop('price',axis=1)\n",
    "y = df['price']\n",
    "X.shape,y.shape"
   ]
  },
  {
   "cell_type": "code",
   "execution_count": 59,
   "id": "9ead7d13-3c3b-4e0d-b136-deaf1e32c037",
   "metadata": {},
   "outputs": [],
   "source": [
    "cat_cols=X.select_dtypes(include='object').columns.tolist()\n",
    "num_cols=X.select_dtypes(include='number').columns.tolist()"
   ]
  },
  {
   "cell_type": "code",
   "execution_count": 60,
   "id": "1c96dbeb-d516-4b34-aba5-780d4b784853",
   "metadata": {},
   "outputs": [],
   "source": [
    "X_train , X_test , y_train , y_test = train_test_split(X,y, test_size= 0.20 ,random_state=42)"
   ]
  },
  {
   "cell_type": "code",
   "execution_count": 75,
   "id": "a01aa898-e597-47c9-92fd-2a821a9864a1",
   "metadata": {},
   "outputs": [],
   "source": [
    "num_pipline=Pipeline(steps=[\n",
    "    ('selector',DataFrameSelector(num_cols)),\n",
    "    ('imputer',SimpleImputer(strategy='median')),\n",
    "    ('transformer',PowerTransformer(method='yeo-johnson', standardize=True))\n",
    "])\n",
    "\n",
    "cat_pipline=Pipeline(steps=[\n",
    "    ('selector',DataFrameSelector(cat_cols)),\n",
    "    ('imputer',SimpleImputer(strategy='most_frequent')),\n",
    "    ('transformer',ce.OrdinalEncoder(drop_invariant=False,return_df=True))\n",
    "])\n",
    "\n",
    "preprocessing_pipeline=FeatureUnion(transformer_list=[\n",
    "    ('num_pipline',num_pipline),\n",
    "    ('cat_pipline',cat_pipline)\n",
    "])"
   ]
  },
  {
   "cell_type": "code",
   "execution_count": 76,
   "id": "1e71fefc-36b7-42cf-b47c-9973df61b5ad",
   "metadata": {},
   "outputs": [],
   "source": [
    "X_train_scaled=preprocessing_pipeline.fit_transform(X_train)\n",
    "X_test_scaled=preprocessing_pipeline.transform(X_test)"
   ]
  },
  {
   "cell_type": "code",
   "execution_count": 88,
   "id": "0b16e3c7-b264-4202-b912-c37d29fa7283",
   "metadata": {},
   "outputs": [
    {
     "name": "stdout",
     "output_type": "stream",
     "text": [
      "Mean Absolute Error  of the model is : 3466.797\n",
      "Mean Squared Error of the model is : 31263550.333\n",
      "Root Mean Squared Error of the model is : 5591.382\n",
      "R-squared value of the model is : 0.822\n"
     ]
    },
    {
     "data": {
      "image/png": "[encoded data removed]",
      "text/plain": [
       "<Figure size 1200x800 with 1 Axes>"
      ]
     },
     "metadata": {},
     "output_type": "display_data"
    }
   ],
   "source": [
    "Rf = RandomForestRegressor(n_estimators = 400,max_depth=18, max_features='log2',random_state=1)\n",
    "Rf.fit(X_train_scaled, y_train)\n",
    "cal_acc(Rf)"
   ]
  },
  {
   "cell_type": "code",
   "execution_count": 79,
   "id": "dc15ad15-409b-41a6-9f7c-83c65bf879ce",
   "metadata": {},
   "outputs": [
    {
     "name": "stdout",
     "output_type": "stream",
     "text": [
      "[19:40:26] WARNING: ../src/objective/regression_obj.cu:213: reg:linear is now deprecated in favor of reg:squarederror.\n",
      "Mean Absolute Error  of the model is : 3239.375\n",
      "Mean Squared Error of the model is : 31673474.285\n",
      "Root Mean Squared Error of the model is : 5627.919\n",
      "R-squared value of the model is : 0.819\n"
     ]
    },
    {
     "data": {
      "image/png": "[encoded data removed]",
      "text/plain": [
       "<Figure size 1200x800 with 1 Axes>"
      ]
     },
     "metadata": {},
     "output_type": "display_data"
    }
   ],
   "source": [
    "xg = XGBRegressor(learning_rate= 0.1,objective ='reg:linear',max_depth=10,n_estimators = 500,random_state=1)\n",
    "xg.fit(X_train_scaled, y_train)\n",
    "cal_acc(xg)"
   ]
  },
  {
   "cell_type": "code",
   "execution_count": 72,
   "id": "7018c645-4514-4096-b480-796316d84de5",
   "metadata": {},
   "outputs": [],
   "source": [
    "def cal_acc(model):\n",
    "    y_pred=model.predict(X_test_scaled)\n",
    "    mae = round(mean_absolute_error(y_test, y_pred), 3)\n",
    "    mse = round(mean_squared_error(y_test, y_pred), 3)\n",
    "    rmse = round(np.sqrt(mse), 3)\n",
    "    r2_value = round(r2_score(y_test, y_pred), 3)\n",
    "    print('Mean Absolute Error  of the model is : {}'.format(mae))\n",
    "    print('Mean Squared Error of the model is : {}'.format(mse))\n",
    "    print('Root Mean Squared Error of the model is : {}'.format(rmse))\n",
    "    print('R-squared value of the model is : {}'.format(r2_value))\n",
    "    data = pd.DataFrame({'y_test':y_test,'y_pred':y_pred})\n",
    "    data.head()\n",
    "    plt.figure(figsize=(12,8))\n",
    "    custom_palette = [\"#FF5A5F\", \"#7B113A\"]\n",
    "    sns.lineplot(data=data[:50],palette=custom_palette)\n",
    "    plt.show()"
   ]
  },
  {
   "cell_type": "markdown",
   "id": "648438bc-727b-46c3-a630-ab2a656c2395",
   "metadata": {},
   "source": [
    "`Cross Validation`"
   ]
  },
  {
   "cell_type": "code",
   "execution_count": 81,
   "id": "ca4f9e33-f2c5-4aa5-9c73-1fef7c70e11d",
   "metadata": {},
   "outputs": [
    {
     "name": "stdout",
     "output_type": "stream",
     "text": [
      "Cross-Validation MAE Scores: [4117.14264053 3877.16074266 3965.39269152 3820.88428579 4397.17173962]\n",
      "Average Cross-Validation MAE: 4035.550420024985\n",
      "Mean Absolute Error (MAE): 3839.9678580270775\n",
      "Mean Squared Error (MSE): 35965426.6887081\n",
      "Root Mean Squared Error (RMSE): 5997.118198660762\n",
      "R-squared value: 0.7946830958567374\n"
     ]
    }
   ],
   "source": [
    "\n",
    "# Initialize the XGBRegressor model\n",
    "model = XGBRegressor()\n",
    "\n",
    "# Perform cross-validation on the training data\n",
    "cv_scores = cross_val_score(model, X_train_scaled, y_train, cv=5, scoring='neg_mean_absolute_error')\n",
    "\n",
    "# Convert the negative MAE scores to positive\n",
    "cv_scores = -cv_scores\n",
    "\n",
    "# Print the cross-validation scores\n",
    "print(\"Cross-Validation MAE Scores:\", cv_scores)\n",
    "print(\"Average Cross-Validation MAE:\", cv_scores.mean())\n",
    "\n",
    "# Fit the model on the training data\n",
    "model.fit(X_train_scaled, y_train)\n",
    "\n",
    "# Make predictions on the test data\n",
    "y_pred = model.predict(X_test_scaled)\n",
    "\n",
    "# Evaluate the model on the test data\n",
    "mae = mean_absolute_error(y_test, y_pred)\n",
    "mse = mean_squared_error(y_test, y_pred)\n",
    "rmse = mean_squared_error(y_test, y_pred, squared=False)\n",
    "r2 = r2_score(y_test, y_pred)\n",
    "\n",
    "# Print the evaluation metrics\n",
    "print(\"Mean Absolute Error (MAE):\", mae)\n",
    "print(\"Mean Squared Error (MSE):\", mse)\n",
    "print(\"Root Mean Squared Error (RMSE):\", rmse)\n",
    "print(\"R-squared value:\", r2)"
   ]
  },
  {
   "cell_type": "code",
   "execution_count": 84,
   "id": "0ef01647-e88f-47c5-88d8-b18e5d09213f",
   "metadata": {},
   "outputs": [
    {
     "name": "stdout",
     "output_type": "stream",
     "text": [
      "Cross-Validation MAE Scores: [3576.04265787 3351.40974824 3485.32442615 3388.08668455 3740.07317619]\n",
      "Average Cross-Validation MAE: 3508.187338599001\n",
      "Mean Absolute Error (MAE): 3319.715151919715\n",
      "Mean Squared Error (MSE): 32315752.93765856\n",
      "Root Mean Squared Error (RMSE): 5684.694621319474\n",
      "R-squared value: 0.8155180972647336\n"
     ]
    }
   ],
   "source": [
    "\n",
    "# Initialize the XGBRegressor model\n",
    "model = RandomForestRegressor()\n",
    "\n",
    "# Perform cross-validation on the training data\n",
    "cv_scores = cross_val_score(model, X_train_scaled, y_train, cv=5, scoring='neg_mean_absolute_error')\n",
    "\n",
    "# Convert the negative MAE scores to positive\n",
    "cv_scores = -cv_scores\n",
    "\n",
    "# Print the cross-validation scores\n",
    "print(\"Cross-Validation MAE Scores:\", cv_scores)\n",
    "print(\"Average Cross-Validation MAE:\", cv_scores.mean())\n",
    "\n",
    "# Fit the model on the training data\n",
    "model.fit(X_train_scaled, y_train)\n",
    "\n",
    "# Make predictions on the test data\n",
    "y_pred = model.predict(X_test_scaled)\n",
    "\n",
    "# Evaluate the model on the test data\n",
    "mae = mean_absolute_error(y_test, y_pred)\n",
    "mse = mean_squared_error(y_test, y_pred)\n",
    "rmse = mean_squared_error(y_test, y_pred, squared=False)\n",
    "r2 = r2_score(y_test, y_pred)\n",
    "\n",
    "# Print the evaluation metrics\n",
    "print(\"Mean Absolute Error (MAE):\", mae)\n",
    "print(\"Mean Squared Error (MSE):\", mse)\n",
    "print(\"Root Mean Squared Error (RMSE):\", rmse)\n",
    "print(\"R-squared value:\", r2)"
   ]
  },
  {
   "cell_type": "markdown",
   "id": "f14b2dcf-e5c2-4c26-b2d6-301e849fa2bc",
   "metadata": {},
   "source": [
    "* after we run cross validation we see the best model are RandomForestRegressor."
   ]
  },
  {
   "cell_type": "code",
   "execution_count": 106,
   "id": "52e112ad-542d-40fd-b625-29acd20ccae1",
   "metadata": {},
   "outputs": [],
   "source": [
    "num_pipeline=Pipeline(steps=[\n",
    "    ('imputer',SimpleImputer(strategy='median')),\n",
    "    ('transformer',PowerTransformer(method='yeo-johnson', standardize=True))\n",
    "])\n",
    "\n",
    "cat_pipeline=Pipeline(steps=[\n",
    "    ('imputer',SimpleImputer(strategy='most_frequent')),\n",
    "    ('transformer',ce.OrdinalEncoder(drop_invariant=False,return_df=True))\n",
    "])\n",
    "\n",
    "# Define the column transformer\n",
    "column_transformer = ColumnTransformer(\n",
    "    transformers=[\n",
    "        ('num_pipeline', num_pipeline, num_cols),\n",
    "        ('cat_pipeline', cat_pipeline, cat_cols)\n",
    "    ])\n",
    "\n",
    "# Update the preprocessing pipeline\n",
    "preprocessing_pipeline = Pipeline(steps=[\n",
    "    ('column_transformer', column_transformer)\n",
    "])\n",
    "\n",
    "# Define the final pipeline with the model\n",
    "model_predictor_pipeline = Pipeline(steps=[\n",
    "    ('preprocessing_pipeline', preprocessing_pipeline),\n",
    "    ('random_forest_regressor_model', RandomForestRegressor(n_estimators=400, max_depth=18, max_features='log2', random_state=1))\n",
    "])"
   ]
  },
  {
   "cell_type": "code",
   "execution_count": 112,
   "id": "89031246-3d55-4e71-99ab-c63cef958f31",
   "metadata": {},
   "outputs": [],
   "source": [
    "model_predictor_pipeline.fit(X_train, y_train)\n",
    "y_pred = model_predictor_pipeline.predict(X_test)"
   ]
  },
  {
   "cell_type": "markdown",
   "id": "5dfe89e6-5117-400a-b782-a506884afe5b",
   "metadata": {},
   "source": [
    "`FastAPI App`"
   ]
  },
  {
   "cell_type": "code",
   "execution_count": 171,
   "id": "e78966a8-5d0e-403b-8982-b7662cfe5bd9",
   "metadata": {},
   "outputs": [
    {
     "name": "stdout",
     "output_type": "stream",
     "text": [
      "Overwriting CarPredictorApp.py\n"
     ]
    }
   ],
   "source": [
    "%%writefile CarPredictorApp.py\n",
    "from fastapi import FastAPI\n",
    "import joblib\n",
    "from pydantic import BaseModel\n",
    "import pandas as pd\n",
    "import uvicorn\n",
    "import numpy as np\n",
    "\n",
    "# Define the input data model using BaseModel\n",
    "class Car(BaseModel):\n",
    "    doors: str\n",
    "    wheel: str\n",
    "    levy: float\n",
    "    engine_volume: float\n",
    "    mileage: int\n",
    "    cylinders: int\n",
    "    airbags: int\n",
    "    model: str\n",
    "    category: str\n",
    "    leather_interior: str\n",
    "    fuel_type: str\n",
    "    gear_box_type: str\n",
    "    drive_wheels: str\n",
    "    engine_turbo: int\n",
    "    age: int\n",
    "    manufacturer: str\n",
    "    \n",
    "# Define a class for the singleton model loader\n",
    "class ModelLoader:\n",
    "    def __init__(self, model_path):\n",
    "        self.model_path = model_path\n",
    "        self.model = None\n",
    "\n",
    "    def get_model(self):\n",
    "        if self.model is None:\n",
    "            self.model = joblib.load(self.model_path)\n",
    "        return self.model\n",
    "\n",
    "    \n",
    "car_model_loader=ModelLoader('carPricePredictorModel.pkl')\n",
    "\n",
    "app=FastAPI()\n",
    "\n",
    "single_instance = pd.DataFrame({\n",
    "    'doors': ['4/5'],\n",
    "    'wheel': ['Left'],\n",
    "    'levy': [1000],\n",
    "    'engine_volume': [2.0],\n",
    "    'mileage': [50000],\n",
    "    'cylinders': [4],\n",
    "    'airbags': [4],\n",
    "    'model': ['Corolla'],\n",
    "    'category': ['Sedan'],\n",
    "    'leather_interior': ['Yes'],\n",
    "    'fuel_type': ['Petrol'],\n",
    "    'gear_box_type': ['Automatic'],\n",
    "    'drive_wheels': ['4x4'],\n",
    "    'engine_turbo': [1],\n",
    "    'age': [3],\n",
    "    'manufacturer': ['Toyota']\n",
    "   \n",
    "})\n",
    "@app.post(\"/predict\")\n",
    "async def predict_car_price(car: Car):\n",
    "    # car_dict = car.dict()\n",
    "    # df = pd.DataFrame.from_dict([car_dict])  \n",
    "    # df=df.astype({'levy': float, 'engine_volume': float, 'engine_turbo': int})\n",
    "    # print(df)\n",
    "    try:\n",
    "        prediction = car_model_loader.get_model().predict(single_instance)\n",
    "        return {\"prediction\": 'prediction[0]'}\n",
    "    except Exception as inst:\n",
    "         return {\"message\": f'please review your request body, maybe have a invalid data : {inst}'}\n",
    "        \n",
    "\n",
    "@app.get('/')\n",
    "async def root():\n",
    "    return {\"Welcome On Our App, Car Price Predictor\"}\n"
   ]
  },
  {
   "cell_type": "code",
   "execution_count": null,
   "id": "59de937c-7d52-4882-99a5-19dab9a643b9",
   "metadata": {},
   "outputs": [
    {
     "name": "stdout",
     "output_type": "stream",
     "text": [
      "\u001b[32mINFO\u001b[0m:     Will watch for changes in these directories: ['/mnt/3d37937b-ae66-4b53-9163-f354a1f3e7bc/Epsilon Ai sessions for data scenice/Data Science']\n",
      "\u001b[32mINFO\u001b[0m:     Uvicorn running on \u001b[1mhttp://127.0.0.1:8000\u001b[0m (Press CTRL+C to quit)\n",
      "\u001b[32mINFO\u001b[0m:     Started reloader process [\u001b[36m\u001b[1m15929\u001b[0m] using \u001b[36m\u001b[1mStatReload\u001b[0m\n",
      "\u001b[32mINFO\u001b[0m:     Started server process [\u001b[36m15931\u001b[0m]\n",
      "\u001b[32mINFO\u001b[0m:     Waiting for application startup.\n",
      "\u001b[32mINFO\u001b[0m:     Application startup complete.\n",
      "\u001b[32mINFO\u001b[0m:     127.0.0.1:46400 - \"\u001b[1mPOST /predict HTTP/1.1\u001b[0m\" \u001b[32m200 OK\u001b[0m\n"
     ]
    }
   ],
   "source": [
    "!uvicorn CarPredictorApp:app --reload"
   ]
  },
  {
   "cell_type": "code",
   "execution_count": 163,
   "id": "34b18df0-0fe4-40bf-a6f7-0673f83075c7",
   "metadata": {},
   "outputs": [
    {
     "data": {
      "text/html": [
       "<div>\n",
       "<style scoped>\n",
       "    .dataframe tbody tr th:only-of-type {\n",
       "        vertical-align: middle;\n",
       "    }\n",
       "\n",
       "    .dataframe tbody tr th {\n",
       "        vertical-align: top;\n",
       "    }\n",
       "\n",
       "    .dataframe thead th {\n",
       "        text-align: right;\n",
       "    }\n",
       "</style>\n",
       "<table border=\"1\" class=\"dataframe\">\n",
       "  <thead>\n",
       "    <tr style=\"text-align: right;\">\n",
       "      <th></th>\n",
       "      <th>doors</th>\n",
       "      <th>wheel</th>\n",
       "      <th>levy</th>\n",
       "      <th>engine_volume</th>\n",
       "      <th>mileage</th>\n",
       "      <th>cylinders</th>\n",
       "      <th>airbags</th>\n",
       "      <th>model</th>\n",
       "      <th>category</th>\n",
       "      <th>leather_interior</th>\n",
       "      <th>fuel_type</th>\n",
       "      <th>gear_box_type</th>\n",
       "      <th>drive_wheels</th>\n",
       "      <th>engine_turbo</th>\n",
       "      <th>age</th>\n",
       "      <th>manufacturer</th>\n",
       "    </tr>\n",
       "  </thead>\n",
       "  <tbody>\n",
       "    <tr>\n",
       "      <th>0</th>\n",
       "      <td>4/5</td>\n",
       "      <td>Left</td>\n",
       "      <td>1000</td>\n",
       "      <td>2.0</td>\n",
       "      <td>50000</td>\n",
       "      <td>4</td>\n",
       "      <td>4</td>\n",
       "      <td>Corolla</td>\n",
       "      <td>Sedan</td>\n",
       "      <td>Yes</td>\n",
       "      <td>Petrol</td>\n",
       "      <td>Automatic</td>\n",
       "      <td>4x4</td>\n",
       "      <td>1</td>\n",
       "      <td>3</td>\n",
       "      <td>Toyota</td>\n",
       "    </tr>\n",
       "  </tbody>\n",
       "</table>\n",
       "</div>"
      ],
      "text/plain": [
       "  doors wheel  levy  engine_volume  mileage  cylinders  airbags    model   \n",
       "0   4/5  Left  1000            2.0    50000          4        4  Corolla  \\\n",
       "\n",
       "  category leather_interior fuel_type gear_box_type drive_wheels   \n",
       "0    Sedan              Yes    Petrol     Automatic          4x4  \\\n",
       "\n",
       "   engine_turbo  age manufacturer  \n",
       "0             1    3       Toyota  "
      ]
     },
     "execution_count": 163,
     "metadata": {},
     "output_type": "execute_result"
    }
   ],
   "source": [
    "df = pd.DataFrame({\n",
    "    'doors': ['4/5'],\n",
    "    'wheel': ['Left'],\n",
    "    'levy': [1000],\n",
    "    'engine_volume': [2.0],\n",
    "    'mileage': [50000],\n",
    "    'cylinders': [4],\n",
    "    'airbags': [4],\n",
    "    'model': ['Corolla'],\n",
    "    'category': ['Sedan'],\n",
    "    'leather_interior': ['Yes'],\n",
    "    'fuel_type': ['Petrol'],\n",
    "    'gear_box_type': ['Automatic'],\n",
    "    'drive_wheels': ['4x4'],\n",
    "    'engine_turbo': [1],\n",
    "    'age': [3],\n",
    "    'manufacturer': ['Toyota']\n",
    "   \n",
    "})\n",
    "\n",
    "df"
   ]
  },
  {
   "cell_type": "code",
   "execution_count": 168,
   "id": "c2099163-a9cb-47ac-b24e-58d65cb33b98",
   "metadata": {},
   "outputs": [
    {
     "name": "stdout",
     "output_type": "stream",
     "text": [
      "<class 'pandas.core.frame.DataFrame'>\n",
      "RangeIndex: 1 entries, 0 to 0\n",
      "Data columns (total 16 columns):\n",
      " #   Column            Non-Null Count  Dtype  \n",
      "---  ------            --------------  -----  \n",
      " 0   doors             1 non-null      object \n",
      " 1   wheel             1 non-null      object \n",
      " 2   levy              1 non-null      float64\n",
      " 3   engine_volume     1 non-null      float64\n",
      " 4   mileage           1 non-null      int64  \n",
      " 5   cylinders         1 non-null      int64  \n",
      " 6   airbags           1 non-null      int64  \n",
      " 7   model             1 non-null      object \n",
      " 8   category          1 non-null      object \n",
      " 9   leather_interior  1 non-null      object \n",
      " 10  fuel_type         1 non-null      object \n",
      " 11  gear_box_type     1 non-null      object \n",
      " 12  drive_wheels      1 non-null      object \n",
      " 13  engine_turbo      1 non-null      int64  \n",
      " 14  age               1 non-null      int64  \n",
      " 15  manufacturer      1 non-null      object \n",
      "dtypes: float64(2), int64(5), object(9)\n",
      "memory usage: 260.0+ bytes\n"
     ]
    }
   ],
   "source": [
    " # Convert numpy.float32 to regular float\n",
    "df.astype({'levy': float, 'engine_volume': float, 'engine_turbo': int}).info()\n",
    "    "
   ]
  },
  {
   "cell_type": "code",
   "execution_count": null,
   "id": "1102971e-bfad-48fc-9082-0696ebb6dd29",
   "metadata": {},
   "outputs": [],
   "source": []
  },
  {
   "cell_type": "code",
   "execution_count": null,
   "id": "d0fac992-cdd3-4548-8c66-8cd496792cf4",
   "metadata": {},
   "outputs": [],
   "source": []
  },
  {
   "cell_type": "code",
   "execution_count": null,
   "id": "586b133a-a797-4a87-a2f3-4d42bb892dda",
   "metadata": {},
   "outputs": [],
   "source": []
  },
  {
   "cell_type": "code",
   "execution_count": null,
   "id": "4fc6bdf0-f142-4417-be28-bfd08d803d48",
   "metadata": {},
   "outputs": [],
   "source": []
  },
  {
   "cell_type": "code",
   "execution_count": 36,
   "id": "031f008b-394d-4da3-b478-d2bc7f4b10a6",
   "metadata": {
    "colab": {
     "base_uri": "https://localhost:8080/"
    },
    "id": "031f008b-394d-4da3-b478-d2bc7f4b10a6",
    "outputId": "1bbce473-f709-4d55-942e-d0c38ab92d1a"
   },
   "outputs": [
    {
     "data": {
      "text/plain": [
       "0        04-May\n",
       "1        04-May\n",
       "2        04-May\n",
       "3        04-May\n",
       "4        04-May\n",
       "          ...  \n",
       "19232    02-Mar\n",
       "19233    04-May\n",
       "19234    04-May\n",
       "19235    04-May\n",
       "19236    04-May\n",
       "Name: doors, Length: 18924, dtype: object"
      ]
     },
     "execution_count": 36,
     "metadata": {},
     "output_type": "execute_result"
    }
   ],
   "source": [
    "df['doors']"
   ]
  },
  {
   "cell_type": "code",
   "execution_count": 37,
   "id": "b1e98a53-756a-44a4-9d9a-11839c469b19",
   "metadata": {
    "colab": {
     "base_uri": "https://localhost:8080/"
    },
    "id": "b1e98a53-756a-44a4-9d9a-11839c469b19",
    "outputId": "06ae02d7-f8d4-4d9c-cbb0-43014e3d3986"
   },
   "outputs": [
    {
     "data": {
      "text/plain": [
       "doors\n",
       "04-May    18032\n",
       "02-Mar      768\n",
       ">5          124\n",
       "Name: count, dtype: int64"
      ]
     },
     "execution_count": 37,
     "metadata": {},
     "output_type": "execute_result"
    }
   ],
   "source": [
    "df['doors'].value_counts()"
   ]
  },
  {
   "cell_type": "code",
   "execution_count": 38,
   "id": "ab9c742e-d736-44fb-ae20-06b47b3f87c4",
   "metadata": {
    "colab": {
     "base_uri": "https://localhost:8080/"
    },
    "id": "ab9c742e-d736-44fb-ae20-06b47b3f87c4",
    "outputId": "d998648b-43e5-47f8-ec46-379de05cf895"
   },
   "outputs": [
    {
     "data": {
      "text/plain": [
       "doors\n",
       "4-5    18032\n",
       "2-3      768\n",
       ">5       124\n",
       "Name: count, dtype: int64"
      ]
     },
     "execution_count": 38,
     "metadata": {},
     "output_type": "execute_result"
    }
   ],
   "source": [
    "#replacing the dates with the number of doors present in the car\n",
    "df['doors'] = df['doors'].str.replace('04-May','4-5')\n",
    "df['doors'] = df['doors'].str.replace('02-Mar','2-3')\n",
    "df['doors'].value_counts()"
   ]
  },
  {
   "cell_type": "code",
   "execution_count": 39,
   "id": "0a5377e1-d2c7-4a4b-b83b-65daaa233278",
   "metadata": {
    "colab": {
     "base_uri": "https://localhost:8080/"
    },
    "id": "0a5377e1-d2c7-4a4b-b83b-65daaa233278",
    "outputId": "c4bffc47-778b-41e9-ac80-0deabd6f61e5"
   },
   "outputs": [
    {
     "data": {
      "text/plain": [
       "0        1399\n",
       "1        1018\n",
       "2           -\n",
       "3         862\n",
       "4         446\n",
       "         ... \n",
       "19232       -\n",
       "19233     831\n",
       "19234     836\n",
       "19235    1288\n",
       "19236     753\n",
       "Name: levy, Length: 18924, dtype: object"
      ]
     },
     "execution_count": 39,
     "metadata": {},
     "output_type": "execute_result"
    }
   ],
   "source": [
    "df['levy']"
   ]
  },
  {
   "cell_type": "code",
   "execution_count": 40,
   "id": "d85a4b1f-c314-43c9-9e46-aa5bcb20097e",
   "metadata": {
    "colab": {
     "base_uri": "https://localhost:8080/"
    },
    "id": "d85a4b1f-c314-43c9-9e46-aa5bcb20097e",
    "outputId": "e8780bdd-064e-4b64-995e-fb3baeb941f2"
   },
   "outputs": [
    {
     "data": {
      "text/plain": [
       "0        1399\n",
       "1        1018\n",
       "2           0\n",
       "3         862\n",
       "4         446\n",
       "         ... \n",
       "19232       0\n",
       "19233     831\n",
       "19234     836\n",
       "19235    1288\n",
       "19236     753\n",
       "Name: levy, Length: 18924, dtype: int64"
      ]
     },
     "execution_count": 40,
     "metadata": {},
     "output_type": "execute_result"
    }
   ],
   "source": [
    "#  replace '-' with '0'\n",
    "df['levy'] = df['levy'].replace(['-'],['0'])\n",
    "df['levy'] = df['levy'].astype(str).astype(int)\n",
    "df['levy']"
   ]
  },
  {
   "cell_type": "code",
   "execution_count": 41,
   "id": "a5af33f0-6608-45b8-853d-0821334af819",
   "metadata": {
    "colab": {
     "base_uri": "https://localhost:8080/"
    },
    "id": "a5af33f0-6608-45b8-853d-0821334af819",
    "outputId": "4a9684ca-1d1f-4c0e-b6e6-bac018cc01a0"
   },
   "outputs": [
    {
     "data": {
      "text/plain": [
       "0              3.5\n",
       "1                3\n",
       "2              1.3\n",
       "3              2.5\n",
       "4              1.3\n",
       "           ...    \n",
       "19232    2.0 Turbo\n",
       "19233          2.4\n",
       "19234            2\n",
       "19235            2\n",
       "19236          2.4\n",
       "Name: engine_volume, Length: 18924, dtype: object"
      ]
     },
     "execution_count": 41,
     "metadata": {},
     "output_type": "execute_result"
    }
   ],
   "source": [
    "df['engine_volume']"
   ]
  },
  {
   "cell_type": "code",
   "execution_count": 42,
   "id": "nJ9WiE0C5CE1",
   "metadata": {
    "colab": {
     "base_uri": "https://localhost:8080/"
    },
    "id": "nJ9WiE0C5CE1",
    "outputId": "62049a71-1a9e-4ed1-86e8-8833034ddc73"
   },
   "outputs": [
    {
     "data": {
      "text/plain": [
       "array(['3.5', '3', '1.3', '2.5', '2', '1.8', '2.4', '4', '1.6', '3.3',\n",
       "       '2.0 Turbo', '2.2 Turbo', '4.7', '1.5', '4.4', '3.0 Turbo',\n",
       "       '1.4 Turbo', '3.6', '2.3', '1.5 Turbo', '1.6 Turbo', '2.2',\n",
       "       '2.3 Turbo', '1.4', '5.5', '2.8 Turbo', '3.2', '3.8', '4.6', '1.2',\n",
       "       '5', '1.7', '2.9', '0.5', '1.8 Turbo', '2.4 Turbo', '3.5 Turbo',\n",
       "       '1.9', '2.7', '4.8', '5.3', '0.4', '2.8', '3.2 Turbo', '1.1',\n",
       "       '2.1', '0.7', '5.4', '1.3 Turbo', '3.7', '1', '2.5 Turbo', '2.6',\n",
       "       '1.9 Turbo', '4.4 Turbo', '4.7 Turbo', '0.8', '0.2 Turbo', '5.7',\n",
       "       '4.8 Turbo', '4.6 Turbo', '6.7', '6.2', '1.2 Turbo', '3.4',\n",
       "       '1.7 Turbo', '6.3 Turbo', '2.7 Turbo', '4.3', '4.2', '2.9 Turbo',\n",
       "       '0', '4.0 Turbo', '20', '3.6 Turbo', '0.3', '3.7 Turbo', '5.9',\n",
       "       '5.5 Turbo', '0.2', '2.1 Turbo', '5.6', '6', '0.7 Turbo',\n",
       "       '0.6 Turbo', '6.8', '4.5', '0.6', '7.3', '0.1', '1.0 Turbo', '6.3',\n",
       "       '4.5 Turbo', '0.8 Turbo', '4.2 Turbo', '3.1', '5.0 Turbo', '6.4',\n",
       "       '3.9', '5.7 Turbo', '0.9', '0.4 Turbo', '5.4 Turbo', '0.3 Turbo',\n",
       "       '5.2', '5.8', '1.1 Turbo'], dtype=object)"
      ]
     },
     "execution_count": 42,
     "metadata": {},
     "output_type": "execute_result"
    }
   ],
   "source": [
    "df['engine_volume'].unique()"
   ]
  },
  {
   "cell_type": "code",
   "execution_count": 43,
   "id": "e85ZwltR5E54",
   "metadata": {
    "colab": {
     "base_uri": "https://localhost:8080/"
    },
    "id": "e85ZwltR5E54",
    "outputId": "707bd2aa-2f41-4037-9f93-01f0e15ebaef"
   },
   "outputs": [
    {
     "data": {
      "text/plain": [
       "engine_volume\n",
       "2            3856\n",
       "2.5          2246\n",
       "1.8          1743\n",
       "1.6          1446\n",
       "1.5          1289\n",
       "             ... \n",
       "6.8             1\n",
       "6.7             1\n",
       "3.1             1\n",
       "0.8 Turbo       1\n",
       "1.1 Turbo       1\n",
       "Name: count, Length: 107, dtype: int64"
      ]
     },
     "execution_count": 43,
     "metadata": {},
     "output_type": "execute_result"
    }
   ],
   "source": [
    "df['engine_volume'].value_counts()"
   ]
  },
  {
   "cell_type": "code",
   "execution_count": 44,
   "id": "4a39a922-c912-449e-af21-f17f482d43d3",
   "metadata": {
    "colab": {
     "base_uri": "https://localhost:8080/"
    },
    "id": "4a39a922-c912-449e-af21-f17f482d43d3",
    "outputId": "a4dd69b7-43ea-440a-d3a0-b0c31f8258d4"
   },
   "outputs": [
    {
     "data": {
      "text/plain": [
       "0        3.5\n",
       "1        3.0\n",
       "2        1.3\n",
       "3        2.5\n",
       "4        1.3\n",
       "        ... \n",
       "19232    2.0\n",
       "19233    2.4\n",
       "19234    2.0\n",
       "19235    2.0\n",
       "19236    2.4\n",
       "Name: engine_volume, Length: 18924, dtype: float64"
      ]
     },
     "execution_count": 44,
     "metadata": {},
     "output_type": "execute_result"
    }
   ],
   "source": [
    "# Remove the string 'Turbo'.\n",
    "# Convert the datatype of the column from object to float.\n",
    "df['turbo'] = df['engine_volume'].str.contains(\"Turbo\").map({False:0,True:1})\n",
    "df['engine_volume']=df['engine_volume'].str.replace('Turbo','')\n",
    "df['engine_volume']= df['engine_volume'].astype(str).astype(float)\n",
    "df['engine_volume']"
   ]
  },
  {
   "cell_type": "code",
   "execution_count": 45,
   "id": "fsrCdh-57CL_",
   "metadata": {
    "colab": {
     "base_uri": "https://localhost:8080/"
    },
    "id": "fsrCdh-57CL_",
    "outputId": "77370b99-b158-45d5-a076-7679384554a4"
   },
   "outputs": [
    {
     "data": {
      "text/plain": [
       "0        0\n",
       "1        0\n",
       "2        0\n",
       "3        0\n",
       "4        0\n",
       "        ..\n",
       "19232    1\n",
       "19233    0\n",
       "19234    0\n",
       "19235    0\n",
       "19236    0\n",
       "Name: turbo, Length: 18924, dtype: int64"
      ]
     },
     "execution_count": 45,
     "metadata": {},
     "output_type": "execute_result"
    }
   ],
   "source": [
    "df['turbo']"
   ]
  },
  {
   "cell_type": "code",
   "execution_count": 46,
   "id": "fc7e97b2-c10f-493f-8763-6cccc7f7e394",
   "metadata": {
    "colab": {
     "base_uri": "https://localhost:8080/"
    },
    "id": "fc7e97b2-c10f-493f-8763-6cccc7f7e394",
    "outputId": "16a0042e-361e-4607-a6d4-8845bab0038d"
   },
   "outputs": [
    {
     "data": {
      "text/plain": [
       "0        186005 km\n",
       "1        192000 km\n",
       "2        200000 km\n",
       "3        168966 km\n",
       "4         91901 km\n",
       "           ...    \n",
       "19232    300000 km\n",
       "19233    161600 km\n",
       "19234    116365 km\n",
       "19235     51258 km\n",
       "19236    186923 km\n",
       "Name: mileage, Length: 18924, dtype: object"
      ]
     },
     "execution_count": 46,
     "metadata": {},
     "output_type": "execute_result"
    }
   ],
   "source": [
    "df['mileage']"
   ]
  },
  {
   "cell_type": "code",
   "execution_count": 47,
   "id": "44b3e01b-208b-42fd-9161-cb06970d42f2",
   "metadata": {
    "colab": {
     "base_uri": "https://localhost:8080/"
    },
    "id": "44b3e01b-208b-42fd-9161-cb06970d42f2",
    "outputId": "e47b9f35-fb0f-4b8f-8232-5ce8f65f510e"
   },
   "outputs": [
    {
     "data": {
      "text/plain": [
       "0        186005\n",
       "1        192000\n",
       "2        200000\n",
       "3        168966\n",
       "4         91901\n",
       "          ...  \n",
       "19232    300000\n",
       "19233    161600\n",
       "19234    116365\n",
       "19235     51258\n",
       "19236    186923\n",
       "Name: mileage, Length: 18924, dtype: int64"
      ]
     },
     "execution_count": 47,
     "metadata": {},
     "output_type": "execute_result"
    }
   ],
   "source": [
    "# Remove the string 'KM'.\n",
    "# Convert it to 'int' datatype.\n",
    "\n",
    "df['mileage']=df['mileage'].str.replace('km','')\n",
    "df['mileage']= df['mileage'].astype(str).astype(int)\n",
    "df['mileage']"
   ]
  },
  {
   "cell_type": "code",
   "execution_count": 48,
   "id": "6b3AMyVzJDwQ",
   "metadata": {
    "colab": {
     "base_uri": "https://localhost:8080/"
    },
    "id": "6b3AMyVzJDwQ",
    "outputId": "154737a3-2ed3-458a-db9a-5f96764fb84b"
   },
   "outputs": [
    {
     "data": {
      "text/plain": [
       "0        13328\n",
       "1        16621\n",
       "2         8467\n",
       "3         3607\n",
       "4        11726\n",
       "         ...  \n",
       "19232     8467\n",
       "19233    15681\n",
       "19234    26108\n",
       "19235     5331\n",
       "19236      470\n",
       "Name: price, Length: 18924, dtype: int64"
      ]
     },
     "execution_count": 48,
     "metadata": {},
     "output_type": "execute_result"
    }
   ],
   "source": [
    "df['price']"
   ]
  },
  {
   "cell_type": "code",
   "execution_count": 49,
   "id": "SPUIp62fJDye",
   "metadata": {
    "colab": {
     "base_uri": "https://localhost:8080/",
     "height": 462
    },
    "id": "SPUIp62fJDye",
    "outputId": "1aec9c8f-f0ed-482d-c41c-56289d2b7781"
   },
   "outputs": [
    {
     "data": {
      "text/plain": [
       "<Axes: >"
      ]
     },
     "execution_count": 49,
     "metadata": {},
     "output_type": "execute_result"
    },
    {
     "data": {
      "image/png": "[encoded data removed]",
      "text/plain": [
       "<Figure size 640x480 with 1 Axes>"
      ]
     },
     "metadata": {},
     "output_type": "display_data"
    }
   ],
   "source": [
    "sns.boxplot(df['price'])"
   ]
  },
  {
   "cell_type": "code",
   "execution_count": 50,
   "id": "R0opUAYPWU8I",
   "metadata": {
    "id": "R0opUAYPWU8I"
   },
   "outputs": [
    {
     "ename": "NameError",
     "evalue": "name 'find_outliers_IQR' is not defined",
     "output_type": "error",
     "traceback": [
      "\u001b[0;31m---------------------------------------------------------------------------\u001b[0m",
      "\u001b[0;31mNameError\u001b[0m                                 Traceback (most recent call last)",
      "Cell \u001b[0;32mIn[50], line 1\u001b[0m\n\u001b[0;32m----> 1\u001b[0m price_outliers\u001b[38;5;241m=\u001b[39mfind_outliers_IQR(df[\u001b[38;5;124m'\u001b[39m\u001b[38;5;124mprice\u001b[39m\u001b[38;5;124m'\u001b[39m])\n\u001b[1;32m      2\u001b[0m df\u001b[38;5;241m.\u001b[39mdrop(price_outliers\u001b[38;5;241m.\u001b[39mindex,inplace\u001b[38;5;241m=\u001b[39m\u001b[38;5;28;01mTrue\u001b[39;00m)\n",
      "\u001b[0;31mNameError\u001b[0m: name 'find_outliers_IQR' is not defined"
     ]
    }
   ],
   "source": [
    "price_outliers=find_outliers_IQR(df['price'])\n",
    "df.drop(price_outliers.index,inplace=True)"
   ]
  },
  {
   "cell_type": "code",
   "execution_count": null,
   "id": "2SiDg-Y-JD1D",
   "metadata": {
    "colab": {
     "base_uri": "https://localhost:8080/",
     "height": 482
    },
    "id": "2SiDg-Y-JD1D",
    "outputId": "52f9b81c-37e1-4743-9057-5ce5bae8bbeb"
   },
   "outputs": [],
   "source": [
    "sns.kdeplot(df['price'])"
   ]
  },
  {
   "cell_type": "code",
   "execution_count": null,
   "id": "dU-AlzWfX_KI",
   "metadata": {
    "colab": {
     "base_uri": "https://localhost:8080/",
     "height": 447
    },
    "id": "dU-AlzWfX_KI",
    "outputId": "a92d4a45-9123-4c0c-db84-de7a3811a126"
   },
   "outputs": [],
   "source": [
    "sns.boxplot(df['price'])"
   ]
  },
  {
   "cell_type": "code",
   "execution_count": null,
   "id": "rv_bEYsmaBL3",
   "metadata": {
    "colab": {
     "base_uri": "https://localhost:8080/"
    },
    "id": "rv_bEYsmaBL3",
    "outputId": "91c1394a-c704-446c-ecf3-42efa66c670b"
   },
   "outputs": [],
   "source": [
    "med=df['price'].median()\n",
    "df.loc[find_outliers_IQR(df['price']).index,'price']=med\n",
    "df['price']"
   ]
  },
  {
   "cell_type": "markdown",
   "id": "e5d7a63e-9350-48e0-8eda-a91f03d77e6d",
   "metadata": {
    "id": "e5d7a63e-9350-48e0-8eda-a91f03d77e6d"
   },
   "source": [
    "### Univariate Analysis:"
   ]
  },
  {
   "cell_type": "markdown",
   "id": "Wv6A-e6pErg9",
   "metadata": {
    "id": "Wv6A-e6pErg9"
   },
   "source": [
    "#### Levy"
   ]
  },
  {
   "cell_type": "code",
   "execution_count": null,
   "id": "cx-EICN2EzkV",
   "metadata": {
    "colab": {
     "base_uri": "https://localhost:8080/",
     "height": 452
    },
    "id": "cx-EICN2EzkV",
    "outputId": "144e78a4-f0d9-4f4e-8bad-e765d24f6d89"
   },
   "outputs": [],
   "source": [
    "\n",
    "sns.boxplot(df['levy'])\n",
    "plt.title(\"Box Plot before median imputation\")\n",
    "plt.show()"
   ]
  },
  {
   "cell_type": "code",
   "execution_count": null,
   "id": "hC-lwF5ZEhQ4",
   "metadata": {
    "colab": {
     "base_uri": "https://localhost:8080/"
    },
    "id": "hC-lwF5ZEhQ4",
    "outputId": "68f28dac-f898-47b1-d843-f4acb88ba397"
   },
   "outputs": [],
   "source": [
    "med=df['levy'].median()\n",
    "df.loc[find_outliers_IQR(df['levy']).index,'levy']=med\n",
    "df['levy']"
   ]
  },
  {
   "cell_type": "code",
   "execution_count": null,
   "id": "-SzCTem1FC8m",
   "metadata": {
    "colab": {
     "base_uri": "https://localhost:8080/",
     "height": 452
    },
    "id": "-SzCTem1FC8m",
    "outputId": "03c2aafb-5774-41df-fc53-96a988786654"
   },
   "outputs": [],
   "source": [
    "\n",
    "sns.boxplot(df['levy'])\n",
    "plt.title(\"Box Plot after median imputation\")\n",
    "plt.show()"
   ]
  },
  {
   "cell_type": "code",
   "execution_count": null,
   "id": "X0fzwcpWFFuB",
   "metadata": {
    "id": "X0fzwcpWFFuB"
   },
   "outputs": [],
   "source": [
    "df.drop(find_outliers_IQR(df['levy']).index,inplace=True)"
   ]
  },
  {
   "cell_type": "markdown",
   "id": "b2c8a481-bcbd-4aff-a570-cad1d74a0cda",
   "metadata": {
    "id": "b2c8a481-bcbd-4aff-a570-cad1d74a0cda"
   },
   "source": [
    "#### engine_volume"
   ]
  },
  {
   "cell_type": "code",
   "execution_count": null,
   "id": "bf3b6f5f-8069-4ed4-bdbb-4f74a3c07ba9",
   "metadata": {
    "colab": {
     "base_uri": "https://localhost:8080/"
    },
    "id": "bf3b6f5f-8069-4ed4-bdbb-4f74a3c07ba9",
    "outputId": "04e6738f-170d-4374-98a0-cbed4935b8e3"
   },
   "outputs": [],
   "source": [
    "df['engine_volume'].value_counts().sort_values(ascending=False).head(10)"
   ]
  },
  {
   "cell_type": "code",
   "execution_count": null,
   "id": "bdd39db8-8df6-4f10-be14-b451baf92518",
   "metadata": {
    "colab": {
     "base_uri": "https://localhost:8080/",
     "height": 832
    },
    "id": "bdd39db8-8df6-4f10-be14-b451baf92518",
    "outputId": "c3f69e99-3a5e-4300-fd85-fe2f381eb6f3"
   },
   "outputs": [],
   "source": [
    "plt.figure(figsize=(19,10))\n",
    "c1=sns.countplot(x='engine_volume',data=df,palette=\"mako\")\n",
    "plt.xticks(rotation=45)\n",
    "c1.bar_label(c1.containers[0],size = 10)\n",
    "plt.show()"
   ]
  },
  {
   "cell_type": "markdown",
   "id": "5e37d261-f344-4c6d-b11d-bc5a28083949",
   "metadata": {
    "id": "5e37d261-f344-4c6d-b11d-bc5a28083949"
   },
   "source": [
    "* Majority of the cars produced has a 2L engine volume."
   ]
  },
  {
   "cell_type": "code",
   "execution_count": null,
   "id": "54c77f11-17e0-4d6e-82a4-f7585557a7fb",
   "metadata": {
    "colab": {
     "base_uri": "https://localhost:8080/",
     "height": 450
    },
    "id": "54c77f11-17e0-4d6e-82a4-f7585557a7fb",
    "outputId": "87a526bc-2ac3-4500-d9ee-6c631f3215ef"
   },
   "outputs": [],
   "source": [
    "sns.kdeplot(data=df,x='engine_volume',fill=True)\n",
    "plt.axvline(np.mean(df['engine_volume']), linestyle='--', c='r', label=\"Mean\")\n",
    "plt.axvline(np.median(df['engine_volume']), linestyle='--', c='g', label=\"Median\")\n",
    "plt.legend()\n",
    "plt.show()"
   ]
  },
  {
   "cell_type": "markdown",
   "id": "3908cffb-bd2c-49ec-963d-85c25e235908",
   "metadata": {
    "id": "3908cffb-bd2c-49ec-963d-85c25e235908"
   },
   "source": [
    "* The values present in the Engine volume column are positively skewed. \"mean sensitive to outlier\""
   ]
  },
  {
   "cell_type": "code",
   "execution_count": null,
   "id": "3b4defe9-0fb3-4ccd-b85a-0db19d2525f8",
   "metadata": {
    "colab": {
     "base_uri": "https://localhost:8080/",
     "height": 472
    },
    "id": "3b4defe9-0fb3-4ccd-b85a-0db19d2525f8",
    "outputId": "a208bef7-3085-44ec-c798-9deafbad4491"
   },
   "outputs": [],
   "source": [
    "sns.boxplot(x=df['engine_volume'])\n",
    "plt.title(\"Box Plot before median imputation\")\n",
    "plt.show()"
   ]
  },
  {
   "cell_type": "code",
   "execution_count": null,
   "id": "11d6f8e3-d90b-4335-95d4-231784c93625",
   "metadata": {
    "colab": {
     "base_uri": "https://localhost:8080/",
     "height": 472
    },
    "id": "11d6f8e3-d90b-4335-95d4-231784c93625",
    "outputId": "9d4bc4ce-bdb1-4399-cc6b-de709003473d"
   },
   "outputs": [],
   "source": [
    "engine_volume_outliers=find_outliers_IQR(df['engine_volume'])\n",
    "med=df['engine_volume'].median()\n",
    "df.loc[engine_volume_outliers.index,'engine_volume'] = med\n",
    "sns.boxplot(x=df['engine_volume'])\n",
    "plt.title(\"Box Plot after median imputation\")\n",
    "plt.show() "
   ]
  },
  {
   "cell_type": "markdown",
   "id": "C0q8mK527Xsn",
   "metadata": {
    "id": "C0q8mK527Xsn"
   },
   "source": [
    "#### Turbo"
   ]
  },
  {
   "cell_type": "code",
   "execution_count": null,
   "id": "C3zrwEH07WUb",
   "metadata": {
    "colab": {
     "base_uri": "https://localhost:8080/"
    },
    "id": "C3zrwEH07WUb",
    "outputId": "bff8124e-894b-494a-bf1b-f192857250ca"
   },
   "outputs": [],
   "source": [
    "turbo_values=df['turbo'].value_counts()\n",
    "turbo_values"
   ]
  },
  {
   "cell_type": "code",
   "execution_count": null,
   "id": "rrEslxpP7b7e",
   "metadata": {
    "colab": {
     "base_uri": "https://localhost:8080/",
     "height": 406
    },
    "id": "rrEslxpP7b7e",
    "outputId": "b88d7114-bb82-45cb-d72b-a632c523c2e7"
   },
   "outputs": [],
   "source": [
    "explode = [ 0.2, 0]\n",
    "location = ['YES', 'No' ]\n",
    "\n",
    "plt.pie(turbo_values, labels=location, colors=sns.color_palette('mako'),\n",
    "        autopct='%.0f%%', explode=explode, shadow=True, rotatelabels='true')\n",
    "plt.show()"
   ]
  },
  {
   "cell_type": "markdown",
   "id": "5d6ea858-4147-417a-af6e-b0ebf5d90d0f",
   "metadata": {
    "id": "5d6ea858-4147-417a-af6e-b0ebf5d90d0f"
   },
   "source": [
    "#### Mileage"
   ]
  },
  {
   "cell_type": "code",
   "execution_count": null,
   "id": "00f80924-3955-463a-a801-b05554dafe12",
   "metadata": {
    "colab": {
     "base_uri": "https://localhost:8080/"
    },
    "id": "00f80924-3955-463a-a801-b05554dafe12",
    "outputId": "8f923c42-0366-47ab-d6ce-97d8747f5e0c"
   },
   "outputs": [],
   "source": [
    "df.mileage"
   ]
  },
  {
   "cell_type": "code",
   "execution_count": null,
   "id": "964160d8-1a9f-445f-bf8e-5851300ce60f",
   "metadata": {
    "colab": {
     "base_uri": "https://localhost:8080/"
    },
    "id": "964160d8-1a9f-445f-bf8e-5851300ce60f",
    "outputId": "9d4553e6-b140-464c-8127-c979666978b2"
   },
   "outputs": [],
   "source": [
    "df.mileage.describe()"
   ]
  },
  {
   "cell_type": "code",
   "execution_count": null,
   "id": "76c5fcd6-69c3-4da4-ba6e-15db020c1cfc",
   "metadata": {
    "colab": {
     "base_uri": "https://localhost:8080/"
    },
    "id": "76c5fcd6-69c3-4da4-ba6e-15db020c1cfc",
    "outputId": "6b90a5c9-c220-46c0-dc95-04d8f1e94230"
   },
   "outputs": [],
   "source": [
    "Mileage = df.mileage.value_counts().head(20)\n",
    "Mileage"
   ]
  },
  {
   "cell_type": "code",
   "execution_count": null,
   "id": "5583baab-bcbb-4795-901e-c53c473094a7",
   "metadata": {
    "colab": {
     "base_uri": "https://localhost:8080/",
     "height": 566
    },
    "id": "5583baab-bcbb-4795-901e-c53c473094a7",
    "outputId": "d88b241a-ddb3-4ce4-9a45-13d6e1453e36"
   },
   "outputs": [],
   "source": [
    "plt.figure(figsize=(15,6))\n",
    "plt.title('Total Number of Cars Mileage(in KM)',fontsize=15)\n",
    "c1=sns.barplot(x=Mileage.index,y=Mileage,palette=\"mako\")\n",
    "c1.set(xlabel='Mileage', ylabel='Number of Cars',)\n",
    "plt.show()"
   ]
  },
  {
   "cell_type": "code",
   "execution_count": null,
   "id": "a088b278-9363-4de7-9350-a4add4b9f308",
   "metadata": {
    "colab": {
     "base_uri": "https://localhost:8080/",
     "height": 449
    },
    "id": "a088b278-9363-4de7-9350-a4add4b9f308",
    "outputId": "d07a75fb-5897-4762-d258-c75c94e70f1a"
   },
   "outputs": [],
   "source": [
    "sns.boxplot(x = df.mileage)\n",
    "plt.show()"
   ]
  },
  {
   "cell_type": "code",
   "execution_count": null,
   "id": "e6d7e62e-b3cb-461b-b0d1-0f6ced36465b",
   "metadata": {
    "colab": {
     "base_uri": "https://localhost:8080/",
     "height": 927
    },
    "id": "e6d7e62e-b3cb-461b-b0d1-0f6ced36465b",
    "outputId": "b646befb-fcd6-41fb-e66a-ef78db55abb9"
   },
   "outputs": [],
   "source": [
    "sns.boxplot(x=df['mileage'])\n",
    "plt.title(\"Box Plot before median imputation\")\n",
    "plt.show()\n",
    "\n",
    "mileage_outliers=find_outliers_IQR(df['mileage'])\n",
    "med=df['mileage'].median()\n",
    "df.loc[mileage_outliers.index,'mileage'] = med\n",
    "            \n",
    "sns.boxplot(x=df['mileage'])\n",
    "plt.title(\"Box Plot after median imputation\")\n",
    "plt.show() "
   ]
  },
  {
   "cell_type": "code",
   "execution_count": null,
   "id": "lEyYlrSIFWqV",
   "metadata": {
    "id": "lEyYlrSIFWqV"
   },
   "outputs": [],
   "source": [
    "df.drop(find_outliers_IQR(df['mileage']).index,inplace=True)"
   ]
  },
  {
   "cell_type": "code",
   "execution_count": null,
   "id": "yQOLNDbyFW08",
   "metadata": {
    "colab": {
     "base_uri": "https://localhost:8080/",
     "height": 472
    },
    "id": "yQOLNDbyFW08",
    "outputId": "7c3134b0-cd49-44ee-f7c5-045fd6431165"
   },
   "outputs": [],
   "source": [
    "sns.boxplot(x=df['mileage'])\n",
    "plt.title(\"Box Plot after drop\")\n",
    "plt.show()"
   ]
  },
  {
   "cell_type": "markdown",
   "id": "c545777e-1682-4dca-bc8d-abcbb326a668",
   "metadata": {
    "id": "c545777e-1682-4dca-bc8d-abcbb326a668"
   },
   "source": [
    "#### Cylinders"
   ]
  },
  {
   "cell_type": "code",
   "execution_count": null,
   "id": "a87ed001-4c61-4cc8-a28f-ae00d3227e37",
   "metadata": {
    "colab": {
     "base_uri": "https://localhost:8080/"
    },
    "id": "a87ed001-4c61-4cc8-a28f-ae00d3227e37",
    "outputId": "50aefded-9538-4ed8-8310-0b22a0be5e24"
   },
   "outputs": [],
   "source": [
    "df['cylinders']"
   ]
  },
  {
   "cell_type": "code",
   "execution_count": null,
   "id": "e6a2ec05-a8f9-46af-8156-9b3c404568bf",
   "metadata": {
    "colab": {
     "base_uri": "https://localhost:8080/"
    },
    "id": "e6a2ec05-a8f9-46af-8156-9b3c404568bf",
    "outputId": "f3b1c022-45f3-4fa5-9867-6b4caa753fa0"
   },
   "outputs": [],
   "source": [
    "df['cylinders'].value_counts()"
   ]
  },
  {
   "cell_type": "code",
   "execution_count": null,
   "id": "673f4e99-07d8-4352-9aa3-271f168dc67b",
   "metadata": {
    "colab": {
     "base_uri": "https://localhost:8080/",
     "height": 566
    },
    "id": "673f4e99-07d8-4352-9aa3-271f168dc67b",
    "outputId": "d0ace6b8-aa57-48c5-a02a-b9de0cbab9da"
   },
   "outputs": [],
   "source": [
    "plt.figure(figsize=(15,6))\n",
    "plt.title('Count of Cars Cylinders',fontsize=15)\n",
    "c1=sns.countplot(x='cylinders',data=df,palette=\"mako\")\n",
    "c1.set(xlabel='Cylinders', ylabel='No of Cars')\n",
    "c1.bar_label(c1.containers[0],size = 10)\n",
    "plt.show()"
   ]
  },
  {
   "cell_type": "markdown",
   "id": "fbb1408b-bf9d-49a6-a9a3-825c04a11d20",
   "metadata": {
    "id": "fbb1408b-bf9d-49a6-a9a3-825c04a11d20"
   },
   "source": [
    "* cllinders of 4 is the most frequency"
   ]
  },
  {
   "cell_type": "markdown",
   "id": "9adfb120-20c3-490d-93fa-a8aefcb46624",
   "metadata": {
    "id": "9adfb120-20c3-490d-93fa-a8aefcb46624"
   },
   "source": [
    "#### Airbags"
   ]
  },
  {
   "cell_type": "code",
   "execution_count": null,
   "id": "7c94c37b-96f2-4135-82e7-7c9fe7f95e32",
   "metadata": {
    "colab": {
     "base_uri": "https://localhost:8080/"
    },
    "id": "7c94c37b-96f2-4135-82e7-7c9fe7f95e32",
    "outputId": "9cca2d1f-6a09-41ad-878e-5bb8e1ff1362"
   },
   "outputs": [],
   "source": [
    "df['airbags']"
   ]
  },
  {
   "cell_type": "code",
   "execution_count": null,
   "id": "25d1b3bb-f857-4019-84a3-e784a0f5d111",
   "metadata": {
    "colab": {
     "base_uri": "https://localhost:8080/"
    },
    "id": "25d1b3bb-f857-4019-84a3-e784a0f5d111",
    "outputId": "c2736fde-490a-4616-9f55-63d4478273c1"
   },
   "outputs": [],
   "source": [
    "df['airbags'].unique()"
   ]
  },
  {
   "cell_type": "code",
   "execution_count": null,
   "id": "4d218026-3af1-49ed-8a4e-f0a982d610bd",
   "metadata": {
    "colab": {
     "base_uri": "https://localhost:8080/"
    },
    "id": "4d218026-3af1-49ed-8a4e-f0a982d610bd",
    "outputId": "be1e60d5-934a-4ee8-99d8-a8ce1dca36de"
   },
   "outputs": [],
   "source": [
    "df['airbags'].value_counts()"
   ]
  },
  {
   "cell_type": "code",
   "execution_count": null,
   "id": "8d2df452-285c-4229-857e-f146bb8fba63",
   "metadata": {
    "colab": {
     "base_uri": "https://localhost:8080/",
     "height": 474
    },
    "id": "8d2df452-285c-4229-857e-f146bb8fba63",
    "outputId": "742c7949-48fa-4ab7-8d36-f23e992bb815"
   },
   "outputs": [],
   "source": [
    "plt.title('Count of Cars AirBags',fontsize=15)\n",
    "c1=sns.countplot(x='airbags',data=df,palette=\"mako\")\n",
    "c1.set(xlabel='Air bags', ylabel='No of Cars')\n",
    "c1.bar_label(c1.containers[0],size = 10)\n",
    "plt.show()"
   ]
  },
  {
   "cell_type": "code",
   "execution_count": null,
   "id": "6dc1d61a-9e36-4919-bb8b-11b6214c3eb5",
   "metadata": {
    "colab": {
     "base_uri": "https://localhost:8080/",
     "height": 447
    },
    "id": "6dc1d61a-9e36-4919-bb8b-11b6214c3eb5",
    "outputId": "5f9ee09b-4f0e-488e-d007-a1915fce3965"
   },
   "outputs": [],
   "source": [
    "sns.boxplot(df['airbags'])"
   ]
  },
  {
   "cell_type": "markdown",
   "id": "8fffdd1f-773d-489e-a898-3ebea9906007",
   "metadata": {
    "id": "8fffdd1f-773d-489e-a898-3ebea9906007"
   },
   "source": [
    "### Categorical Features"
   ]
  },
  {
   "cell_type": "code",
   "execution_count": null,
   "id": "4a39c976-385f-448e-bcaf-dab07168405d",
   "metadata": {
    "colab": {
     "base_uri": "https://localhost:8080/"
    },
    "id": "4a39c976-385f-448e-bcaf-dab07168405d",
    "outputId": "dfcbf408-2c70-461b-bd3d-da01dffaab48"
   },
   "outputs": [],
   "source": [
    "\n",
    "print(\"Categorical Variables:\")\n",
    "print(df.select_dtypes(\"object\").columns.tolist())"
   ]
  },
  {
   "cell_type": "markdown",
   "id": "0d0f2048-fa32-4aba-bb56-a425330de974",
   "metadata": {
    "id": "0d0f2048-fa32-4aba-bb56-a425330de974"
   },
   "source": [
    "#### manufacturer"
   ]
  },
  {
   "cell_type": "code",
   "execution_count": null,
   "id": "5b78e8d1-4b15-49ab-ad2f-d19f8aae8e6f",
   "metadata": {
    "colab": {
     "base_uri": "https://localhost:8080/"
    },
    "id": "5b78e8d1-4b15-49ab-ad2f-d19f8aae8e6f",
    "outputId": "35c943f4-0d9c-4432-a643-279429bf6020"
   },
   "outputs": [],
   "source": [
    "df['manufacturer']"
   ]
  },
  {
   "cell_type": "code",
   "execution_count": null,
   "id": "e515930b-ab1d-42b7-b428-fa44f416837f",
   "metadata": {
    "colab": {
     "base_uri": "https://localhost:8080/"
    },
    "id": "e515930b-ab1d-42b7-b428-fa44f416837f",
    "outputId": "09e4d0a9-c2c4-4b88-985b-6d55e4589dfd"
   },
   "outputs": [],
   "source": [
    "df['manufacturer'].unique()"
   ]
  },
  {
   "cell_type": "code",
   "execution_count": null,
   "id": "3bcf93ce-827e-44c9-9029-6f3c9cea7b80",
   "metadata": {
    "id": "3bcf93ce-827e-44c9-9029-6f3c9cea7b80"
   },
   "outputs": [],
   "source": [
    "Manufacture=df['manufacturer'].value_counts().head(20)"
   ]
  },
  {
   "cell_type": "code",
   "execution_count": null,
   "id": "415094f9-aaf9-4250-8bc6-4cef5940ac59",
   "metadata": {
    "colab": {
     "base_uri": "https://localhost:8080/",
     "height": 671
    },
    "id": "415094f9-aaf9-4250-8bc6-4cef5940ac59",
    "outputId": "1938e8a7-c565-47fa-dcb0-ffb10803bfc6"
   },
   "outputs": [],
   "source": [
    "plt.figure(figsize=(10,6))\n",
    "plt.tight_layout(pad=3)\n",
    "plt.title(\"Cars Produced by the Manufacturer\",fontsize=15)\n",
    "sns.set_style(\"darkgrid\")\n",
    "a=sns.barplot(x=Manufacture.index,y=Manufacture,palette=\"mako\")\n",
    "a.set_xticklabels(Manufacture.index ,rotation=90)\n",
    "a.set(xlabel='Manufacturer', ylabel='Number of Cars')\n",
    "plt.show()"
   ]
  },
  {
   "cell_type": "code",
   "execution_count": null,
   "id": "AWi8UJEE05Uh",
   "metadata": {
    "colab": {
     "base_uri": "https://localhost:8080/",
     "height": 542
    },
    "id": "AWi8UJEE05Uh",
    "outputId": "4068b777-401e-4dc3-8c12-fd89cfe68fc8"
   },
   "outputs": [],
   "source": [
    "ax2= px.treemap(df,path=[\"manufacturer\"],title=\"Popularity of the Popular Manufacturer:\")\n",
    "ax2.show()"
   ]
  },
  {
   "cell_type": "markdown",
   "id": "c9101537-03cb-444f-826d-9ba3c410d8c1",
   "metadata": {
    "id": "c9101537-03cb-444f-826d-9ba3c410d8c1"
   },
   "source": [
    "#### Model"
   ]
  },
  {
   "cell_type": "code",
   "execution_count": null,
   "id": "c13130cc-f558-4388-964e-7ae1a8715909",
   "metadata": {
    "colab": {
     "base_uri": "https://localhost:8080/"
    },
    "id": "c13130cc-f558-4388-964e-7ae1a8715909",
    "outputId": "29fbec0f-ccbd-4f77-ca3e-0e0e8e2fd322"
   },
   "outputs": [],
   "source": [
    "Model=df['model'].value_counts().head(20)\n",
    "Model"
   ]
  },
  {
   "cell_type": "code",
   "execution_count": null,
   "id": "47db7575-b067-46b5-8836-a2608d523308",
   "metadata": {
    "colab": {
     "base_uri": "https://localhost:8080/",
     "height": 568
    },
    "id": "47db7575-b067-46b5-8836-a2608d523308",
    "outputId": "7b8364bb-2397-40d9-f7a2-0ca0cfa1488f"
   },
   "outputs": [],
   "source": [
    "plt.title(\"Models Produced\",fontsize=15)\n",
    "plt.tight_layout(w_pad=15)\n",
    "a=sns.barplot(x=Model.index,y=Model,palette=\"mako\")\n",
    "a.set_xticklabels(Model.index ,rotation=90)\n",
    "a.set(xlabel='Model', ylabel='Number of Cars')\n",
    "a.bar_label(a.containers[0],size = 10)\n",
    "plt.show()"
   ]
  },
  {
   "cell_type": "markdown",
   "id": "635c0edd-789e-4673-ab87-e78a056906aa",
   "metadata": {
    "id": "635c0edd-789e-4673-ab87-e78a056906aa"
   },
   "source": [
    "#### Category"
   ]
  },
  {
   "cell_type": "code",
   "execution_count": null,
   "id": "387fc77d-e565-4630-b960-add12e2f9939",
   "metadata": {
    "colab": {
     "base_uri": "https://localhost:8080/"
    },
    "id": "387fc77d-e565-4630-b960-add12e2f9939",
    "outputId": "c13175be-f416-4078-a6c4-d9b8c87b8430"
   },
   "outputs": [],
   "source": [
    "df['category']"
   ]
  },
  {
   "cell_type": "code",
   "execution_count": null,
   "id": "b5fac894-7c98-4485-8b73-5f20dc95241d",
   "metadata": {
    "colab": {
     "base_uri": "https://localhost:8080/"
    },
    "id": "b5fac894-7c98-4485-8b73-5f20dc95241d",
    "outputId": "89993059-49f3-4c13-d261-85d80120fef0"
   },
   "outputs": [],
   "source": [
    "df['category'].unique()"
   ]
  },
  {
   "cell_type": "code",
   "execution_count": null,
   "id": "fbc4c52e-a236-4322-b267-39bdfc9ed19c",
   "metadata": {
    "colab": {
     "base_uri": "https://localhost:8080/"
    },
    "id": "fbc4c52e-a236-4322-b267-39bdfc9ed19c",
    "outputId": "d98a5411-7063-477c-a937-836d3e9874b6"
   },
   "outputs": [],
   "source": [
    "Category=df['category'].value_counts()\n",
    "Category"
   ]
  },
  {
   "cell_type": "code",
   "execution_count": null,
   "id": "78c6c2ff-a425-4c71-850c-95b007c97e28",
   "metadata": {
    "colab": {
     "base_uri": "https://localhost:8080/",
     "height": 460
    },
    "id": "78c6c2ff-a425-4c71-850c-95b007c97e28",
    "outputId": "7115bfeb-a26b-4c1c-fff8-659afb4fb765"
   },
   "outputs": [],
   "source": [
    "plt.title(\"Categories of Cars\",fontsize=20)\n",
    "plt.tight_layout(pad=5)\n",
    "ax=sns.barplot(x=Category.index,y=Category,palette='mako')\n",
    "ax.set_xticklabels(Category.index,rotation=45)\n",
    "ax.set(xlabel='Category', ylabel='Number of Cars')\n",
    "ax.bar_label(ax.containers[0])\n",
    "plt.show()"
   ]
  },
  {
   "cell_type": "markdown",
   "id": "93f66a60-4bdb-4429-8ee6-5526a2e945b2",
   "metadata": {
    "id": "93f66a60-4bdb-4429-8ee6-5526a2e945b2"
   },
   "source": [
    "#### Leather interior"
   ]
  },
  {
   "cell_type": "code",
   "execution_count": null,
   "id": "7454dae6-6055-4e42-a79b-5192f288a67f",
   "metadata": {
    "colab": {
     "base_uri": "https://localhost:8080/"
    },
    "id": "7454dae6-6055-4e42-a79b-5192f288a67f",
    "outputId": "6b83f5e6-947f-4cfc-c0bf-5af7ad7e9dfa"
   },
   "outputs": [],
   "source": [
    "df['leather_interior'].value_counts()"
   ]
  },
  {
   "cell_type": "code",
   "execution_count": null,
   "id": "88c34e83-867c-43b2-bbb2-d1db06678eb0",
   "metadata": {
    "colab": {
     "base_uri": "https://localhost:8080/",
     "height": 397
    },
    "id": "88c34e83-867c-43b2-bbb2-d1db06678eb0",
    "outputId": "7d25303e-bca8-4588-87ad-5d48c86a46e2"
   },
   "outputs": [],
   "source": [
    "plt.title(\"Leather Interior of Cars\",fontsize=20)\n",
    "plt.tight_layout(pad=5)\n",
    "ax=sns.countplot(data=df,x='leather_interior',palette='mako')\n",
    "ax.set(ylabel='Number of Cars')\n",
    "ax.bar_label(ax.containers[0])\n",
    "plt.show()"
   ]
  },
  {
   "cell_type": "code",
   "execution_count": null,
   "id": "lY3Tdz53x3Ls",
   "metadata": {
    "colab": {
     "base_uri": "https://localhost:8080/",
     "height": 444
    },
    "id": "lY3Tdz53x3Ls",
    "outputId": "c4437d8e-efca-4c84-996f-b4f61e0b335f"
   },
   "outputs": [],
   "source": [
    "leather_Interior = ['Yes','No']\n",
    "plt.figure(figsize=(6,5))\n",
    "plt.title('Leather Interiored or Not(Yes/No)')\n",
    "plt.pie(df['leather_interior'].value_counts(),autopct='%1.2f%%',labels = leather_Interior,explode=(0.1,0.1));\n",
    "plt.show()"
   ]
  },
  {
   "cell_type": "code",
   "execution_count": null,
   "id": "BLTvJK7_yKTF",
   "metadata": {
    "colab": {
     "base_uri": "https://localhost:8080/",
     "height": 534
    },
    "id": "BLTvJK7_yKTF",
    "outputId": "62f8f796-ac6b-4c27-80a8-8b5a20353eb9"
   },
   "outputs": [],
   "source": [
    "fig, axes = plt.subplots(1,2, figsize=(12,6))\n",
    "\n",
    "plt.tight_layout(pad=5)\n",
    "ax=sns.countplot(data=df,x='leather_interior',palette='mako',ax=axes[0])\n",
    "ax.set(ylabel='Number of Cars')\n",
    "ax.bar_label(ax.containers[0])\n",
    "ax.title.set_text('Leather Interior of Cars')\n",
    "\n",
    "leather_Interior = ['Yes','No']\n",
    "plt.title('Leather Interiored or Not(Yes/No)')\n",
    "axes[1].pie(df['leather_interior'].value_counts(),autopct='%1.2f%%',labels = leather_Interior,explode=(0.1,0.1));\n",
    "plt.show()"
   ]
  },
  {
   "cell_type": "markdown",
   "id": "62be80de-db30-4597-8a9f-13421d6e028e",
   "metadata": {
    "id": "62be80de-db30-4597-8a9f-13421d6e028e"
   },
   "source": [
    "#### Fuel Type"
   ]
  },
  {
   "cell_type": "code",
   "execution_count": null,
   "id": "f1256292-8d60-4ec0-8a96-88bd9f5bebb8",
   "metadata": {
    "colab": {
     "base_uri": "https://localhost:8080/"
    },
    "id": "f1256292-8d60-4ec0-8a96-88bd9f5bebb8",
    "outputId": "f2da3ffc-bbe3-4320-cd2f-ce850e5547c9"
   },
   "outputs": [],
   "source": [
    "fuel_type= df['fuel_type'].value_counts()\n",
    "fuel_type"
   ]
  },
  {
   "cell_type": "code",
   "execution_count": null,
   "id": "81c12bb4-ee16-48a8-8926-83dab5b75dbf",
   "metadata": {
    "colab": {
     "base_uri": "https://localhost:8080/",
     "height": 462
    },
    "id": "81c12bb4-ee16-48a8-8926-83dab5b75dbf",
    "outputId": "0ccd2142-1f1f-4d05-b306-fd2daedea138"
   },
   "outputs": [],
   "source": [
    "plt.title(\"Fuel type of Cars\",fontsize=20)\n",
    "plt.tight_layout(pad=5)\n",
    "ax=sns.countplot(data=df,x='fuel_type',palette='mako')\n",
    "ax.set(xlabel=\"Fuel Typey\",label='Number of Cars')\n",
    "ax.bar_label(ax.containers[0])\n",
    "ax.set_xticklabels(fuel_type.index,rotation=45)\n",
    "plt.show()"
   ]
  },
  {
   "cell_type": "code",
   "execution_count": null,
   "id": "29f80646-6a46-4b00-af01-08e4a499703e",
   "metadata": {
    "colab": {
     "base_uri": "https://localhost:8080/"
    },
    "id": "29f80646-6a46-4b00-af01-08e4a499703e",
    "outputId": "70ad4b57-c71b-46a7-fbaa-a2d225e468a1"
   },
   "outputs": [],
   "source": [
    "df['drive_wheels'].value_counts()"
   ]
  },
  {
   "cell_type": "code",
   "execution_count": null,
   "id": "a13e60b5-8b13-4288-94e7-f47ce62af870",
   "metadata": {
    "colab": {
     "base_uri": "https://localhost:8080/",
     "height": 542
    },
    "id": "a13e60b5-8b13-4288-94e7-f47ce62af870",
    "outputId": "0268d948-38fa-4730-8e87-e92c0bed9566"
   },
   "outputs": [],
   "source": [
    "labels = df['drive_wheels'].unique().tolist()\n",
    "sizes =  df['drive_wheels'].value_counts().tolist()\n",
    "colors=['lightcyan','cyan','royalblue','darkblue']\n",
    "colors = ['#66b3ff','#205bc0','#94b5ef']\n",
    "\n",
    "fig = px.pie(df, values=sizes, names=labels, title='Percentage of the Types of Drive Wheels present in Cars',\n",
    "             color_discrete_sequence=colors ,\n",
    "             hole=.3)\n",
    "fig.update_traces(textposition='inside', textinfo='percent+label')\n",
    "fig.update_layout(margin=dict( b=0, l=0, r=0))\n",
    "\n",
    "fig.show()"
   ]
  },
  {
   "cell_type": "markdown",
   "id": "1f29cf75-4709-4026-8f39-435b0ecd97a0",
   "metadata": {
    "id": "1f29cf75-4709-4026-8f39-435b0ecd97a0"
   },
   "source": [
    "#### Doors"
   ]
  },
  {
   "cell_type": "code",
   "execution_count": null,
   "id": "fb989bb4-55df-4c90-8f12-07d46994cb45",
   "metadata": {
    "colab": {
     "base_uri": "https://localhost:8080/",
     "height": 474
    },
    "id": "fb989bb4-55df-4c90-8f12-07d46994cb45",
    "outputId": "803cb7e4-570b-438e-b439-d22461f658cc"
   },
   "outputs": [],
   "source": [
    "plt.title(\"No of Doors in Cars\",fontsize=15)\n",
    "doors = df['doors'].value_counts()\n",
    "c1=sns.countplot(data=df,x='doors',palette=\"mako\")\n",
    "c1.set(xlabel='Doors',ylabel='No of Cars')\n",
    "c1.bar_label(c1.containers[0],size = 12)\n",
    "plt.show()"
   ]
  },
  {
   "cell_type": "markdown",
   "id": "4ff358eb-1dbf-4c34-b10a-51c2f631b3f0",
   "metadata": {
    "id": "4ff358eb-1dbf-4c34-b10a-51c2f631b3f0"
   },
   "source": [
    "#### Wheels"
   ]
  },
  {
   "cell_type": "code",
   "execution_count": null,
   "id": "29aaf28a-8651-4746-9adf-3391d8ca1210",
   "metadata": {
    "colab": {
     "base_uri": "https://localhost:8080/"
    },
    "id": "29aaf28a-8651-4746-9adf-3391d8ca1210",
    "outputId": "6a7d3dd0-d923-4e7c-94aa-57ba7b9948c6"
   },
   "outputs": [],
   "source": [
    "df['wheel'].value_counts()"
   ]
  },
  {
   "cell_type": "code",
   "execution_count": null,
   "id": "99b6f44a-a7bc-4cd0-9c09-a96375fd84dd",
   "metadata": {
    "colab": {
     "base_uri": "https://localhost:8080/",
     "height": 542
    },
    "id": "99b6f44a-a7bc-4cd0-9c09-a96375fd84dd",
    "outputId": "41bd0033-a149-4faa-da7c-60aae59ec6ce"
   },
   "outputs": [],
   "source": [
    "labels = df['wheel'].unique().tolist()\n",
    "sizes =  df['wheel'].value_counts().tolist()\n",
    "fig = px.pie(df, values=sizes, names=labels, title='Percentage of the Types of Wheels present in Cars',\n",
    "color_discrete_sequence=px.colors.sequential.Blues_r)\n",
    "fig.update_traces(textposition='inside', textinfo='percent+label')\n",
    "fig.update_layout(margin=dict( b=0, l=0, r=0))\n",
    "fig.show()"
   ]
  },
  {
   "cell_type": "markdown",
   "id": "78e2ca75-4bf9-4d38-a1bd-d0403a603ff8",
   "metadata": {
    "id": "78e2ca75-4bf9-4d38-a1bd-d0403a603ff8"
   },
   "source": [
    "#### Gear box type"
   ]
  },
  {
   "cell_type": "code",
   "execution_count": null,
   "id": "9134a04b-8766-47cd-a2c0-3a994b41b1be",
   "metadata": {
    "colab": {
     "base_uri": "https://localhost:8080/"
    },
    "id": "9134a04b-8766-47cd-a2c0-3a994b41b1be",
    "outputId": "1aafba6f-7eea-47c9-9ac3-44d0792b8409"
   },
   "outputs": [],
   "source": [
    "df['gear_box_type'].value_counts()"
   ]
  },
  {
   "cell_type": "code",
   "execution_count": null,
   "id": "0ba00624-eed0-439b-bfcd-028b2e67a08f",
   "metadata": {
    "colab": {
     "base_uri": "https://localhost:8080/",
     "height": 474
    },
    "id": "0ba00624-eed0-439b-bfcd-028b2e67a08f",
    "outputId": "4d935299-9ccd-4c8c-f1bd-53046b841cd5"
   },
   "outputs": [],
   "source": [
    "plt.title(\"Gear box type\",fontsize=15)\n",
    "c1=sns.countplot(x=df['gear_box_type'],palette=\"mako\")\n",
    "c1.bar_label(c1.containers[0],size = 12)\n",
    "c1.set(xlabel=\"Gear Box Type\",ylabel=\"No of cars\")\n",
    "plt.show()"
   ]
  },
  {
   "cell_type": "markdown",
   "id": "a6a7ce7e-a9f6-4f20-b990-a4c488c99821",
   "metadata": {
    "id": "a6a7ce7e-a9f6-4f20-b990-a4c488c99821"
   },
   "source": [
    "* Most of the models have a Automatic kind of gear box."
   ]
  },
  {
   "cell_type": "code",
   "execution_count": null,
   "id": "005f08eb-5340-45eb-83c5-1cfc5af61ba1",
   "metadata": {
    "colab": {
     "base_uri": "https://localhost:8080/",
     "height": 855
    },
    "id": "005f08eb-5340-45eb-83c5-1cfc5af61ba1",
    "outputId": "0b2f3b0a-cdcf-4ec1-a75b-ab9671481a9c"
   },
   "outputs": [],
   "source": [
    "plt.figure(figsize=(14,10))\n",
    "plot = sns.heatmap(abs(df.select_dtypes('number').corr()), annot=True, cmap='mako',vmin=-1)\n",
    "plt.title('Correlation Heatmap of Car price prediction Dataset', weight='bold',fontsize=15)\n",
    "plot.set_xticklabels(plot.get_xticklabels(), rotation=0, horizontalalignment='center')\n",
    "plot.set_yticklabels(plot.get_yticklabels(), rotation=0, horizontalalignment='right')\n",
    "plt.show()"
   ]
  },
  {
   "cell_type": "markdown",
   "id": "51e0708f-0cf9-4c7b-8e22-6627c462630d",
   "metadata": {
    "id": "51e0708f-0cf9-4c7b-8e22-6627c462630d"
   },
   "source": [
    "* There is no strong correlation among the variables ."
   ]
  },
  {
   "cell_type": "code",
   "execution_count": null,
   "id": "96101ca5-484d-4d27-bc2b-426f42af841c",
   "metadata": {
    "colab": {
     "base_uri": "https://localhost:8080/",
     "height": 112
    },
    "id": "96101ca5-484d-4d27-bc2b-426f42af841c",
    "outputId": "5c1e5c8a-5663-4e43-aa4a-197bf739786c"
   },
   "outputs": [],
   "source": [
    "df[['price','cylinders']].corr()"
   ]
  },
  {
   "cell_type": "code",
   "execution_count": null,
   "id": "5d36c968-4dd8-40d6-92fd-635fcec4cf7a",
   "metadata": {
    "colab": {
     "base_uri": "https://localhost:8080/",
     "height": 452
    },
    "id": "5d36c968-4dd8-40d6-92fd-635fcec4cf7a",
    "outputId": "fba2a69b-2c22-479e-85a9-b0cf47a065a9"
   },
   "outputs": [],
   "source": [
    "Target_corr  = df.select_dtypes('number').corr().loc[:, 'price'].to_frame().sort_values(by = 'price' , ascending=False)\n",
    "plot = sns.heatmap(Target_corr, annot=True, cmap='mako', vmin = -1)\n",
    "plt.title('Correlation Heatmap of Car price prediction Dataset', weight='bold')\n",
    "plot.set_xticklabels(plot.get_xticklabels(), rotation=0, horizontalalignment='center')\n",
    "plot.set_yticklabels(plot.get_yticklabels(), rotation=0, horizontalalignment='right')\n",
    "plt.show()"
   ]
  },
  {
   "cell_type": "code",
   "execution_count": null,
   "id": "ba9cc516-c63b-4bf4-bd9b-3eac5caaff82",
   "metadata": {
    "colab": {
     "base_uri": "https://localhost:8080/"
    },
    "id": "ba9cc516-c63b-4bf4-bd9b-3eac5caaff82",
    "outputId": "31e040c1-df2e-4112-cac9-cafb6d73e351"
   },
   "outputs": [],
   "source": [
    "df.groupby('manufacturer')['mileage'].max().sort_values(ascending=False)"
   ]
  },
  {
   "cell_type": "code",
   "execution_count": null,
   "id": "0de4ac05-5fbc-4ccf-a624-4b39381f2748",
   "metadata": {
    "colab": {
     "base_uri": "https://localhost:8080/"
    },
    "id": "0de4ac05-5fbc-4ccf-a624-4b39381f2748",
    "outputId": "c9d4b025-5a28-4a1e-fe18-486d348b7dc4"
   },
   "outputs": [],
   "source": [
    "df.groupby('model')['mileage'].max().sort_values(ascending=False)"
   ]
  },
  {
   "cell_type": "markdown",
   "id": "ab273304-46e8-45c7-b9a9-29218e9cfa6e",
   "metadata": {
    "id": "ab273304-46e8-45c7-b9a9-29218e9cfa6e"
   },
   "source": [
    "### Year wise variety of Cars:"
   ]
  },
  {
   "cell_type": "code",
   "execution_count": null,
   "id": "e3e7f2b5-5e98-43ff-ac36-5de75fceeb1f",
   "metadata": {
    "colab": {
     "base_uri": "https://localhost:8080/",
     "height": 1000
    },
    "id": "e3e7f2b5-5e98-43ff-ac36-5de75fceeb1f",
    "outputId": "02736793-2304-4402-c366-5aae3780b7ba"
   },
   "outputs": [],
   "source": [
    "df_wise_year = df.groupby(by= ['year'], as_index=False).count().sort_values(by='year', ascending=False)[['year','price']]\n",
    "df_wise_year = df_wise_year.rename(columns={'price': 'count'})\n",
    "df_wise_year['prd_yr_per'] = round(df_wise_year['count']/sum(df_wise_year['count'])*100,2)\n",
    "df_wise_year"
   ]
  },
  {
   "cell_type": "code",
   "execution_count": null,
   "id": "bdac56f0-575c-4740-8233-5390e36fab40",
   "metadata": {
    "colab": {
     "base_uri": "https://localhost:8080/",
     "height": 746
    },
    "id": "bdac56f0-575c-4740-8233-5390e36fab40",
    "outputId": "1e50410e-5338-4eb8-edc7-9093ee77d6c6"
   },
   "outputs": [],
   "source": [
    "plt.figure(figsize=(18,8))\n",
    "plot = sns.barplot(x = 'year', y = 'count',  data = df_wise_year,palette=\"Blues\")\n",
    "plt.title('Year wise variety of cars', fontsize=16)\n",
    "plot.set_xticklabels(plot.get_xticklabels(), rotation=90, horizontalalignment='center')\n",
    "plot.bar_label(container=plot.containers[0])\n",
    "plt.xlabel('Year of production', fontsize=12)\n",
    "plt.ylabel('Number of car varieties', fontsize=12)\n",
    "\n",
    "plt.show()"
   ]
  },
  {
   "cell_type": "markdown",
   "id": "88b45cbf-2922-4ee1-8b6f-70d7b007ba49",
   "metadata": {
    "id": "88b45cbf-2922-4ee1-8b6f-70d7b007ba49"
   },
   "source": [
    "* The quantity of car variants each year gradualy increases upto 2015 after which we get to witness a decline."
   ]
  },
  {
   "cell_type": "markdown",
   "id": "78bc737f-9703-47cd-82ab-59ded4f6373e",
   "metadata": {
    "id": "78bc737f-9703-47cd-82ab-59ded4f6373e"
   },
   "source": [
    "### Manufacturer's variety of cars:"
   ]
  },
  {
   "cell_type": "code",
   "execution_count": null,
   "id": "4f68dec2-d3fd-46da-98a4-b90261e58eab",
   "metadata": {
    "colab": {
     "base_uri": "https://localhost:8080/",
     "height": 424
    },
    "id": "4f68dec2-d3fd-46da-98a4-b90261e58eab",
    "outputId": "78887ffe-09fc-42db-a4c5-5073fc77d0f1"
   },
   "outputs": [],
   "source": [
    "df_wise_manu = df.groupby(by= ['manufacturer'], as_index=False).count().sort_values(by='price', ascending=False)[['manufacturer','price']]\n",
    "df_wise_manu = df_wise_manu.rename(columns={'price': 'count'})\n",
    "df_wise_manu"
   ]
  },
  {
   "cell_type": "code",
   "execution_count": null,
   "id": "3e6f6516-766f-4d6c-bbd6-ae7fc664f108",
   "metadata": {
    "colab": {
     "base_uri": "https://localhost:8080/",
     "height": 583
    },
    "id": "3e6f6516-766f-4d6c-bbd6-ae7fc664f108",
    "outputId": "d9053273-f608-47e5-b3a3-dae9e77bda08"
   },
   "outputs": [],
   "source": [
    "plot = sns.barplot(x = 'manufacturer', y = 'count',  data = df_wise_manu.head(20),palette=\"Blues_r\")\n",
    "plt.title('manufacturer wise variety of cars', fontsize=16)\n",
    "plot.set_xticklabels(plot.get_xticklabels(), rotation=90, horizontalalignment='center')\n",
    "plt.xlabel('manufacturer of production', fontsize=12)\n",
    "plt.ylabel('Number of car varieties', fontsize=12)\n",
    "plt.show()"
   ]
  },
  {
   "cell_type": "markdown",
   "id": "18b97e71-41fa-4d98-bda0-f97108225455",
   "metadata": {
    "id": "18b97e71-41fa-4d98-bda0-f97108225455"
   },
   "source": [
    "* Hyundai , Toyota and Mercedes-Benz have the highest variants of cars."
   ]
  },
  {
   "cell_type": "markdown",
   "id": "46c2835b-2fcf-4a62-b8a1-11f7d8b2c6f5",
   "metadata": {
    "id": "46c2835b-2fcf-4a62-b8a1-11f7d8b2c6f5"
   },
   "source": [
    "### Mean Price wise analysis of each feature"
   ]
  },
  {
   "cell_type": "code",
   "execution_count": null,
   "id": "9efc7302-7760-4ce2-b972-523360e4c7e8",
   "metadata": {
    "colab": {
     "base_uri": "https://localhost:8080/"
    },
    "id": "9efc7302-7760-4ce2-b972-523360e4c7e8",
    "outputId": "be011363-2e93-49e1-ff60-4d767ef22936"
   },
   "outputs": [],
   "source": [
    "lcv=df.select_dtypes('object')\n",
    "for column in lcv:\n",
    "    print(column)\n",
    "    print(df[['price', column]].groupby(by= [column], as_index=False).agg('mean').sort_values(by='price', ascending=False))"
   ]
  },
  {
   "cell_type": "code",
   "execution_count": null,
   "id": "0381b02c-6540-49fe-b1cc-ac8dc5919014",
   "metadata": {
    "id": "0381b02c-6540-49fe-b1cc-ac8dc5919014"
   },
   "outputs": [],
   "source": [
    "lcv.drop(columns=['manufacturer','model'],inplace=True)"
   ]
  },
  {
   "cell_type": "code",
   "execution_count": null,
   "id": "054af23e-1df2-42f6-a35d-004a138581f1",
   "metadata": {
    "id": "054af23e-1df2-42f6-a35d-004a138581f1"
   },
   "outputs": [],
   "source": [
    "def annot_percent(axes):\n",
    "    for p in plot.patches:\n",
    "        total = sum(p.get_height() for p in plot.patches)/100\n",
    "        percent = round((p.get_height()/total),2)\n",
    "        x = p.get_x() + p.get_width()/2\n",
    "        y = p.get_height()*1.015\n",
    "        plot.annotate(f'{percent}%', (x, y), ha='center', va='bottom')"
   ]
  },
  {
   "cell_type": "code",
   "execution_count": null,
   "id": "bf2559b2-a6bd-4322-9a21-a4de3300b36a",
   "metadata": {
    "colab": {
     "base_uri": "https://localhost:8080/",
     "height": 1000
    },
    "id": "bf2559b2-a6bd-4322-9a21-a4de3300b36a",
    "outputId": "d5864840-01f9-456c-ba7e-1c34a0e06491"
   },
   "outputs": [],
   "source": [
    "plt.figure(figsize=(15,20))\n",
    "for n,column in  enumerate(lcv):\n",
    "    plot=plt.subplot(4,2,n+1)\n",
    "    c1=sns.barplot(x =df[column], y= df['price'],palette=\"Blues_r\",errorbar=None)\n",
    "    plot.set_xticklabels(plot.get_xticklabels(), rotation=30, horizontalalignment='center')\n",
    "    plt.title(f'{column.title()}',weight='bold')\n",
    "    plt.tight_layout()\n",
    "    # Add annotations to the bar plot\n",
    "    annot_percent(plot)"
   ]
  },
  {
   "cell_type": "markdown",
   "id": "a6ffae43-cf37-4bbf-ab8b-8522fd0f4e1d",
   "metadata": {
    "id": "a6ffae43-cf37-4bbf-ab8b-8522fd0f4e1d"
   },
   "source": [
    "* The average price of Diesel car is maximum and CNG is the minimum.\n",
    "* The average price of 4x4,Front and Rear drives wheels are almost similar.\n",
    "* 2-3 Doors has the highest average maximum price.\n",
    "* Left wheel drive has the maximum average price."
   ]
  },
  {
   "cell_type": "code",
   "execution_count": null,
   "id": "ae88e049-6be1-4d8c-8a7d-3414bab220be",
   "metadata": {
    "colab": {
     "base_uri": "https://localhost:8080/",
     "height": 424
    },
    "id": "ae88e049-6be1-4d8c-8a7d-3414bab220be",
    "outputId": "5830c260-ae61-47ce-fee6-e79a0f6188f3"
   },
   "outputs": [],
   "source": [
    "df_price_wise_manu=df[['price', 'manufacturer']].groupby(by= 'manufacturer', as_index=False).agg('mean').sort_values(by='price', ascending=False)\n",
    "df_price_wise_manu"
   ]
  },
  {
   "cell_type": "code",
   "execution_count": null,
   "id": "04edb0e5-d82e-4f95-bd37-09b63c0a81f4",
   "metadata": {
    "colab": {
     "base_uri": "https://localhost:8080/",
     "height": 487
    },
    "id": "04edb0e5-d82e-4f95-bd37-09b63c0a81f4",
    "outputId": "6046b3e4-8118-409d-a7cf-fcd525e2e6ac"
   },
   "outputs": [],
   "source": [
    "c1=sns.barplot(data=df_price_wise_manu.head(20),x ='manufacturer', y= 'price',palette=\"Blues_r\")\n",
    "c1.set_xticklabels(c1.get_xticklabels(), rotation=90, horizontalalignment='center')\n",
    "plt.title('manufacturer',weight='bold')\n",
    "plt.tight_layout()"
   ]
  },
  {
   "cell_type": "code",
   "execution_count": null,
   "id": "ff3f2d5e-8282-418a-8c70-22d6c2cc3f49",
   "metadata": {
    "colab": {
     "base_uri": "https://localhost:8080/",
     "height": 424
    },
    "id": "ff3f2d5e-8282-418a-8c70-22d6c2cc3f49",
    "outputId": "f7cb2e93-ec05-4dac-e00a-a302c671d7da"
   },
   "outputs": [],
   "source": [
    "df_price_wise_model=df[['price', 'model']].groupby(by= 'model', as_index=False).agg('mean').sort_values(by='price', ascending=False)\n",
    "df_price_wise_model"
   ]
  },
  {
   "cell_type": "code",
   "execution_count": null,
   "id": "02bcaac8-abd1-4137-b87e-037bceba8f7a",
   "metadata": {
    "colab": {
     "base_uri": "https://localhost:8080/",
     "height": 487
    },
    "id": "02bcaac8-abd1-4137-b87e-037bceba8f7a",
    "outputId": "687f1832-568f-4af8-8c9d-c4529589431b"
   },
   "outputs": [],
   "source": [
    "c1=sns.barplot(data=df_price_wise_model.head(20),x ='model', y= 'price',palette=\"Blues_r\")\n",
    "c1.set_xticklabels(c1.get_xticklabels(), rotation=90, horizontalalignment='center')\n",
    "plt.title('model',weight='bold')\n",
    "plt.tight_layout()"
   ]
  },
  {
   "cell_type": "markdown",
   "id": "wyI9f01pmebk",
   "metadata": {
    "id": "wyI9f01pmebk"
   },
   "source": [
    "### Average Production Price for each year:"
   ]
  },
  {
   "cell_type": "code",
   "execution_count": null,
   "id": "qEyEB12Lle89",
   "metadata": {
    "colab": {
     "base_uri": "https://localhost:8080/",
     "height": 394
    },
    "id": "qEyEB12Lle89",
    "outputId": "50dcf964-a905-4c39-912c-5130af95543f"
   },
   "outputs": [],
   "source": [
    "price_wise_years=df.groupby('year')['price'].agg('mean').sort_values(ascending=False).to_frame()\n",
    "price_wise_years.head(10)"
   ]
  },
  {
   "cell_type": "code",
   "execution_count": null,
   "id": "ad50bc56-5685-4770-88af-0fddc179aa8c",
   "metadata": {
    "colab": {
     "base_uri": "https://localhost:8080/",
     "height": 748
    },
    "id": "ad50bc56-5685-4770-88af-0fddc179aa8c",
    "outputId": "9682d5ae-1308-4db3-8b99-13a662602180"
   },
   "outputs": [],
   "source": [
    "plt.figure(figsize=(18,8))\n",
    "plot = sns.barplot(x=\"year\", y=\"price\", data=df,palette=\"Blues\",errorbar=None)\n",
    "plot.set_xticklabels(plot.get_xticklabels(), rotation=90, horizontalalignment='center')\n",
    "plt.title('Average price for each production year', fontsize=16)\n",
    "plt.xlabel('Production year', fontsize=15)\n",
    "plt.ylabel('Mean Price', fontsize=15)\n",
    "plt.show()"
   ]
  },
  {
   "cell_type": "code",
   "execution_count": null,
   "id": "9cf050f8-e6bb-4403-a020-b6d5a0671ffb",
   "metadata": {
    "colab": {
     "base_uri": "https://localhost:8080/",
     "height": 542
    },
    "id": "9cf050f8-e6bb-4403-a020-b6d5a0671ffb",
    "outputId": "b1b8dd7c-d418-46e6-a204-0880caeead72"
   },
   "outputs": [],
   "source": [
    "px.bar(data_frame=df,x='year',y='price')"
   ]
  },
  {
   "cell_type": "markdown",
   "id": "IwQEUbVErFB3",
   "metadata": {
    "id": "IwQEUbVErFB3"
   },
   "source": [
    "\n",
    "*  From the given plot we can infer that there seems to be general increase in the average price of the car each year.\n",
    "\n",
    "\n",
    "\n",
    "\n",
    "\n"
   ]
  },
  {
   "cell_type": "code",
   "execution_count": null,
   "id": "RmzD3kpxvhvd",
   "metadata": {
    "colab": {
     "base_uri": "https://localhost:8080/",
     "height": 466
    },
    "id": "RmzD3kpxvhvd",
    "outputId": "35394602-5240-49e6-de05-6b906272865d"
   },
   "outputs": [],
   "source": [
    "# px.line(data_frame=df,x='year',y='price')\n",
    "sns.lineplot(data=df,x='year', y= 'price')\n"
   ]
  },
  {
   "cell_type": "markdown",
   "id": "eCPSsGClr3NQ",
   "metadata": {
    "id": "eCPSsGClr3NQ"
   },
   "source": [
    "### Comparison of year wise mean price and individual features"
   ]
  },
  {
   "cell_type": "code",
   "execution_count": null,
   "id": "55fe1ccf-f9a4-498c-bffd-278c709172c4",
   "metadata": {
    "colab": {
     "base_uri": "https://localhost:8080/",
     "height": 1000
    },
    "id": "55fe1ccf-f9a4-498c-bffd-278c709172c4",
    "outputId": "aed10a67-ccfb-4747-ec0c-c73631462330"
   },
   "outputs": [],
   "source": [
    "plt.figure(figsize=(18,5))\n",
    "for n,column in  enumerate(lcv):\n",
    "    sns.lineplot(data=df,x='year', y= 'price',hue=column,errorbar=None)\n",
    "    plt.title(f'Year wise variety mean price of cars vs {column}', fontsize=16,weight='bold')\n",
    "    plt.xlabel('Year of production', fontsize=12)\n",
    "    plt.ylabel('Mean price', fontsize=12)    \n",
    "    plt.show()"
   ]
  },
  {
   "cell_type": "markdown",
   "id": "_-oQsYBLt3um",
   "metadata": {
    "id": "_-oQsYBLt3um"
   },
   "source": [
    "#### From the above plots we can infer that:\n",
    "\n",
    "* The average price of tiptronic engines have risen due to a surge in demand over the last few years.\n",
    "\n",
    "* Leather interior's average price is always high.\n",
    "* There is also an increase in the average price of diesel engines."
   ]
  },
  {
   "cell_type": "code",
   "execution_count": null,
   "id": "406e55ce-96c8-4ffc-a471-b337eda718a1",
   "metadata": {
    "colab": {
     "base_uri": "https://localhost:8080/"
    },
    "id": "406e55ce-96c8-4ffc-a471-b337eda718a1",
    "outputId": "f16bbf15-6bd0-4c89-80d7-f817fe9b5310"
   },
   "outputs": [],
   "source": [
    "df.columns"
   ]
  },
  {
   "cell_type": "code",
   "execution_count": null,
   "id": "5ML88PAiETTl",
   "metadata": {
    "id": "5ML88PAiETTl"
   },
   "outputs": [],
   "source": [
    "df_encoding=df.copy()"
   ]
  },
  {
   "cell_type": "code",
   "execution_count": null,
   "id": "f4LZpOAEEEHx",
   "metadata": {
    "colab": {
     "base_uri": "https://localhost:8080/"
    },
    "id": "f4LZpOAEEEHx",
    "outputId": "6d2693da-b6f9-4171-d366-881791e87fe2"
   },
   "outputs": [],
   "source": [
    "df_encoding.shape"
   ]
  },
  {
   "cell_type": "code",
   "execution_count": null,
   "id": "8k_idVyoR2qM",
   "metadata": {
    "id": "8k_idVyoR2qM"
   },
   "outputs": [],
   "source": [
    "from sklearn.preprocessing import OrdinalEncoder"
   ]
  },
  {
   "cell_type": "code",
   "execution_count": null,
   "id": "347b4b43-269a-4be7-8b95-2b34f9206073",
   "metadata": {
    "id": "347b4b43-269a-4be7-8b95-2b34f9206073"
   },
   "outputs": [],
   "source": [
    "targetEncod = ce.LeaveOneOutEncoder()\n",
    "ordinalEncoder = OrdinalEncoder()\n",
    "hotEncoder = OneHotEncoder(sparse_output=False,drop='first')"
   ]
  },
  {
   "cell_type": "markdown",
   "id": "CRBDRzKrXDWb",
   "metadata": {
    "id": "CRBDRzKrXDWb"
   },
   "source": [
    "\n",
    "*  Iam using a OneHotLeaveTargetEncoder for catgory feature that have aunique values more than 15 item\n",
    "*   for less than 15 item  I provide a two ways OrdinalEncoder and OneHotEncoder \n",
    "\n",
    "\n",
    "*   Ordinal Encoder Given Me A Accuracy better than oneHotEncoder\n",
    "*   but i leave my example for oneHotEncoder for anyone want it \n",
    "\n",
    "\n",
    "\n",
    "\n",
    "\n",
    "\n",
    "\n",
    "\n",
    "\n",
    "\n",
    "\n"
   ]
  },
  {
   "cell_type": "code",
   "execution_count": null,
   "id": "UxFqsc3pdcwF",
   "metadata": {
    "colab": {
     "base_uri": "https://localhost:8080/"
    },
    "id": "UxFqsc3pdcwF",
    "outputId": "5474e344-f772-46a2-d700-c1f7bd06fcf7"
   },
   "outputs": [],
   "source": [
    "df.groupby('manufacturer').mean()['price']"
   ]
  },
  {
   "cell_type": "markdown",
   "id": "hig0xvf-HjQz",
   "metadata": {
    "id": "hig0xvf-HjQz"
   },
   "source": [
    "### manufacturer"
   ]
  },
  {
   "cell_type": "code",
   "execution_count": null,
   "id": "df95316f-eda5-4cc6-be0f-ae92ece5f61c",
   "metadata": {
    "colab": {
     "base_uri": "https://localhost:8080/",
     "height": 679
    },
    "id": "df95316f-eda5-4cc6-be0f-ae92ece5f61c",
    "outputId": "765db67d-1e8a-4a11-eef2-ef217ee19fc6"
   },
   "outputs": [],
   "source": [
    "df_encoding['manufacturer']=targetEncod.fit_transform(df['manufacturer'],df['price'])\n",
    "df_encoding"
   ]
  },
  {
   "cell_type": "markdown",
   "id": "tYg0mBmCd0oT",
   "metadata": {
    "id": "tYg0mBmCd0oT"
   },
   "source": [
    "### Model"
   ]
  },
  {
   "cell_type": "code",
   "execution_count": null,
   "id": "B1zP8xT9dyGN",
   "metadata": {
    "id": "B1zP8xT9dyGN"
   },
   "outputs": [],
   "source": [
    "df_encoding['model'] = targetEncod.fit_transform(df['model'],df['price'])"
   ]
  },
  {
   "cell_type": "code",
   "execution_count": null,
   "id": "40BrdZAVDO0P",
   "metadata": {
    "colab": {
     "base_uri": "https://localhost:8080/",
     "height": 374
    },
    "id": "40BrdZAVDO0P",
    "outputId": "6c2f8e8f-ff75-41d5-b9ed-7abcc2e0d1a7"
   },
   "outputs": [],
   "source": [
    "df_encoding.head()"
   ]
  },
  {
   "cell_type": "markdown",
   "id": "iX7uRbiSd5LA",
   "metadata": {
    "id": "iX7uRbiSd5LA"
   },
   "source": [
    "### category"
   ]
  },
  {
   "cell_type": "code",
   "execution_count": null,
   "id": "VZF2rIP0d_zQ",
   "metadata": {
    "colab": {
     "base_uri": "https://localhost:8080/"
    },
    "id": "VZF2rIP0d_zQ",
    "outputId": "ce38d96a-9035-4693-e0eb-e129c38f8182"
   },
   "outputs": [],
   "source": [
    "df_encoding['category'].unique()"
   ]
  },
  {
   "cell_type": "code",
   "execution_count": null,
   "id": "tRP6QRdVgWm6",
   "metadata": {
    "id": "tRP6QRdVgWm6"
   },
   "outputs": [],
   "source": [
    "## Ordinal Encoder\n",
    "category_encoded = ordinalEncoder.fit_transform(df_encoding[['category']])\n",
    "category_encoded\n",
    "df_encoding['category']=category_encoded "
   ]
  },
  {
   "cell_type": "markdown",
   "id": "juuqrNILWU7Q",
   "metadata": {
    "id": "juuqrNILWU7Q"
   },
   "source": [
    "\n",
    "> OneHot Encoder\n",
    "\n",
    "\n",
    "\n"
   ]
  },
  {
   "cell_type": "code",
   "execution_count": null,
   "id": "yE1qhZW1iYgo",
   "metadata": {
    "id": "yE1qhZW1iYgo"
   },
   "outputs": [],
   "source": [
    "# category_df = pd.DataFrame(category_encoded, columns=hotEncoder.categories_[0].tolist()[1:],index=df_encoding['category'].index)\n",
    "# category_df.head()"
   ]
  },
  {
   "cell_type": "code",
   "execution_count": null,
   "id": "3HzpB_yEfe43",
   "metadata": {
    "id": "3HzpB_yEfe43"
   },
   "outputs": [],
   "source": [
    "# df_encoding=pd.concat([df_encoding.drop('category', axis=1), category_df], axis=1)\n",
    "# df_encoding.head() "
   ]
  },
  {
   "cell_type": "markdown",
   "id": "tP15DYCYHnKB",
   "metadata": {
    "id": "tP15DYCYHnKB"
   },
   "source": [
    "### leather_interior,doors"
   ]
  },
  {
   "cell_type": "code",
   "execution_count": null,
   "id": "5TG_OJ7gFDfV",
   "metadata": {
    "colab": {
     "base_uri": "https://localhost:8080/",
     "height": 374
    },
    "id": "5TG_OJ7gFDfV",
    "outputId": "8b76a239-8188-4a6f-fbae-2ae705a0b7f5"
   },
   "outputs": [],
   "source": [
    "df_encoding['leather_interior'] = df['leather_interior'].map({\"Yes\":1,\"No\" : 0})\n",
    "df_encoding['doors'] = df['doors'].map({'4-5':4, '2-3':2, '>5':5})\n",
    "df_encoding.head()"
   ]
  },
  {
   "cell_type": "markdown",
   "id": "0xxkpqEEHzYw",
   "metadata": {
    "id": "0xxkpqEEHzYw"
   },
   "source": [
    "### fuel_type"
   ]
  },
  {
   "cell_type": "code",
   "execution_count": null,
   "id": "yG52hfBV8lt5",
   "metadata": {
    "colab": {
     "base_uri": "https://localhost:8080/"
    },
    "id": "yG52hfBV8lt5",
    "outputId": "50cee808-2560-45b7-a8f3-14855ff4316a"
   },
   "outputs": [],
   "source": [
    "df['fuel_type'].unique()"
   ]
  },
  {
   "cell_type": "code",
   "execution_count": null,
   "id": "LAi92lx98lwn",
   "metadata": {
    "id": "LAi92lx98lwn"
   },
   "outputs": [],
   "source": [
    "fuel_type_encoded = ordinalEncoder.fit_transform(df[['fuel_type']])\n",
    "fuel_type_encoded\n",
    "df_encoding['fuel_type']=fuel_type_encoded"
   ]
  },
  {
   "cell_type": "markdown",
   "id": "S4TaYBM5WhdW",
   "metadata": {
    "id": "S4TaYBM5WhdW"
   },
   "source": [
    "\n",
    "\n",
    "> OneHot Encoder\n",
    "\n"
   ]
  },
  {
   "cell_type": "code",
   "execution_count": null,
   "id": "YlBiebZ985up",
   "metadata": {
    "id": "YlBiebZ985up"
   },
   "outputs": [],
   "source": [
    "# fuel_type_df = pd.DataFrame(fuel_type_encoded, columns=hotEncoder.categories_[0].tolist()[1:],index=df_encoding['fuel_type'].index)\n",
    "# fuel_type_df.head()"
   ]
  },
  {
   "cell_type": "code",
   "execution_count": null,
   "id": "qcI4v4gfhFNA",
   "metadata": {
    "id": "qcI4v4gfhFNA"
   },
   "outputs": [],
   "source": [
    "# df_encoding=pd.concat([df_encoding.drop('fuel_type', axis=1), fuel_type_df], axis=1)\n",
    "# df_encoding.head()"
   ]
  },
  {
   "cell_type": "markdown",
   "id": "cphsnSdSH2fS",
   "metadata": {
    "id": "cphsnSdSH2fS"
   },
   "source": [
    "### gear_box_type"
   ]
  },
  {
   "cell_type": "code",
   "execution_count": null,
   "id": "ZSiEzYqd9agS",
   "metadata": {
    "colab": {
     "base_uri": "https://localhost:8080/"
    },
    "id": "ZSiEzYqd9agS",
    "outputId": "81328f23-f0bd-4891-cf3d-fc315ea20f01"
   },
   "outputs": [],
   "source": [
    "df['gear_box_type'].unique()"
   ]
  },
  {
   "cell_type": "code",
   "execution_count": null,
   "id": "6KciT616Sm5N",
   "metadata": {
    "id": "6KciT616Sm5N"
   },
   "outputs": [],
   "source": [
    "gear_box_type_encoded = ordinalEncoder.fit_transform(df[['gear_box_type']])\n",
    "df_encoding['gear_box_type']=gear_box_type_encoded "
   ]
  },
  {
   "cell_type": "markdown",
   "id": "PRlbr0ibWvSP",
   "metadata": {
    "id": "PRlbr0ibWvSP"
   },
   "source": [
    "\n",
    "\n",
    "> OneHot Encoder\n",
    "\n",
    "\n",
    "\n"
   ]
  },
  {
   "cell_type": "code",
   "execution_count": null,
   "id": "ZOLzZSB19amC",
   "metadata": {
    "id": "ZOLzZSB19amC"
   },
   "outputs": [],
   "source": [
    "# gear_box_type_encoded = hotEncoder.fit_transform(df[['gear_box_type']])\n",
    "# gear_box_type_df = pd.DataFrame(gear_box_type_encoded, columns=hotEncoder.categories_[0].tolist()[1:],index=df_encoding['gear_box_type'].index)\n",
    "# gear_box_type_df.head()"
   ]
  },
  {
   "cell_type": "code",
   "execution_count": null,
   "id": "RAkg7PrH9-w2",
   "metadata": {
    "id": "RAkg7PrH9-w2"
   },
   "outputs": [],
   "source": [
    "# df_encoding=pd.concat([df_encoding.drop('gear_box_type', axis=1), gear_box_type_df], axis=1)\n",
    "# df_encoding.head()"
   ]
  },
  {
   "cell_type": "code",
   "execution_count": null,
   "id": "cTo1mbJs9ax6",
   "metadata": {
    "colab": {
     "base_uri": "https://localhost:8080/"
    },
    "id": "cTo1mbJs9ax6",
    "outputId": "5279051f-e4f8-4efe-ca1d-1f940459a949"
   },
   "outputs": [],
   "source": [
    "df_encoding.info()"
   ]
  },
  {
   "cell_type": "markdown",
   "id": "nk0qhsrtH44K",
   "metadata": {
    "id": "nk0qhsrtH44K"
   },
   "source": [
    "### drive_wheels"
   ]
  },
  {
   "cell_type": "code",
   "execution_count": null,
   "id": "gJd0o30m_gU9",
   "metadata": {
    "colab": {
     "base_uri": "https://localhost:8080/"
    },
    "id": "gJd0o30m_gU9",
    "outputId": "706868b7-dbe4-4338-c5ca-df5e8276c281"
   },
   "outputs": [],
   "source": [
    "df['drive_wheels'].value_counts()"
   ]
  },
  {
   "cell_type": "code",
   "execution_count": null,
   "id": "cAKmuQS4SxNo",
   "metadata": {
    "id": "cAKmuQS4SxNo"
   },
   "outputs": [],
   "source": [
    "drive_wheels_encoded = ordinalEncoder.fit_transform(df[['drive_wheels']])\n",
    "df_encoding['drive_wheels']=drive_wheels_encoded"
   ]
  },
  {
   "cell_type": "markdown",
   "id": "ACqBD5hiW7Vq",
   "metadata": {
    "id": "ACqBD5hiW7Vq"
   },
   "source": [
    "\n",
    "\n",
    "> OneHot Encoder\n",
    "\n"
   ]
  },
  {
   "cell_type": "code",
   "execution_count": null,
   "id": "294q-khE_OID",
   "metadata": {
    "id": "294q-khE_OID"
   },
   "outputs": [],
   "source": [
    "# drive_wheels_encoded = hotEncoder.fit_transform(df[['drive_wheels']])\n",
    "# drive_wheels_df = pd.DataFrame(drive_wheels_encoded, columns=hotEncoder.categories_[0].tolist()[1:],index=df['drive_wheels'].index)\n",
    "# drive_wheels_df.head()"
   ]
  },
  {
   "cell_type": "code",
   "execution_count": null,
   "id": "7KTZiqoQ_OK-",
   "metadata": {
    "id": "7KTZiqoQ_OK-"
   },
   "outputs": [],
   "source": [
    "# df_encoding=pd.concat([df_encoding.drop('drive_wheels', axis=1), drive_wheels_df], axis=1)\n",
    "# df_encoding.head()"
   ]
  },
  {
   "cell_type": "markdown",
   "id": "FMwFoVM7H7Sk",
   "metadata": {
    "id": "FMwFoVM7H7Sk"
   },
   "source": [
    "### wheel"
   ]
  },
  {
   "cell_type": "code",
   "execution_count": null,
   "id": "GRBJRhJOiIle",
   "metadata": {
    "colab": {
     "base_uri": "https://localhost:8080/"
    },
    "id": "GRBJRhJOiIle",
    "outputId": "e2cee140-b369-40e8-a29e-a5b684169bf0"
   },
   "outputs": [],
   "source": [
    "df['wheel'].unique()"
   ]
  },
  {
   "cell_type": "code",
   "execution_count": null,
   "id": "7OnQnXLgiOY8",
   "metadata": {
    "colab": {
     "base_uri": "https://localhost:8080/",
     "height": 270
    },
    "id": "7OnQnXLgiOY8",
    "outputId": "a4722477-9d21-47c0-fb90-3ffe4c5d0e8e"
   },
   "outputs": [],
   "source": [
    "df_encoding['wheel'] = df['wheel'].map({\"Left wheel\":0,\"Right-hand drive\" : 1})\n",
    "df_encoding.head()"
   ]
  },
  {
   "cell_type": "code",
   "execution_count": null,
   "id": "E07EumkMTBp4",
   "metadata": {
    "colab": {
     "base_uri": "https://localhost:8080/",
     "height": 270
    },
    "id": "E07EumkMTBp4",
    "outputId": "b4d77be1-9c66-4f33-e181-3ebdabac8edd"
   },
   "outputs": [],
   "source": [
    "df_encoding.head()"
   ]
  },
  {
   "cell_type": "markdown",
   "id": "w5rGChEcH9XR",
   "metadata": {
    "id": "w5rGChEcH9XR"
   },
   "source": [
    "### color"
   ]
  },
  {
   "cell_type": "code",
   "execution_count": null,
   "id": "K_sTm4ql90OS",
   "metadata": {
    "colab": {
     "base_uri": "https://localhost:8080/",
     "height": 250
    },
    "id": "K_sTm4ql90OS",
    "outputId": "e94980da-1a43-45c3-8607-22bc7d8b79d7"
   },
   "outputs": [],
   "source": [
    "df_encoding.drop(['color'],axis=1,inplace=True)\n",
    "df_encoding.head(5)"
   ]
  },
  {
   "cell_type": "code",
   "execution_count": null,
   "id": "n5AOPEO3CtrG",
   "metadata": {
    "colab": {
     "base_uri": "https://localhost:8080/",
     "height": 250
    },
    "id": "n5AOPEO3CtrG",
    "outputId": "54513d1a-b7b1-4d78-95d8-5dd02a92f3bd"
   },
   "outputs": [],
   "source": [
    "df_cleaned=df_encoding.copy()\n",
    "df_cleaned.drop_duplicates(inplace=True)\n",
    "df_cleaned.head(5)"
   ]
  },
  {
   "cell_type": "markdown",
   "id": "Rqe3L0qya-ga",
   "metadata": {
    "id": "Rqe3L0qya-ga"
   },
   "source": [
    "### Train and test split"
   ]
  },
  {
   "cell_type": "code",
   "execution_count": null,
   "id": "Utl4ZANQKI-j",
   "metadata": {
    "colab": {
     "base_uri": "https://localhost:8080/"
    },
    "id": "Utl4ZANQKI-j",
    "outputId": "6c3688cc-7123-4032-e119-d2531e0fe8d5"
   },
   "outputs": [],
   "source": [
    "x=df_cleaned.drop('price',axis=1)\n",
    "y = df_cleaned['price']\n",
    "x.shape,y.shape"
   ]
  },
  {
   "cell_type": "code",
   "execution_count": null,
   "id": "sCjFUN_AKJBF",
   "metadata": {
    "id": "sCjFUN_AKJBF"
   },
   "outputs": [],
   "source": [
    "X_train,X_test,y_train,y_test = train_test_split(x,y,test_size=0.2, random_state=42)"
   ]
  },
  {
   "cell_type": "code",
   "execution_count": null,
   "id": "hNwMIkZuKJdk",
   "metadata": {
    "colab": {
     "base_uri": "https://localhost:8080/",
     "height": 468
    },
    "id": "hNwMIkZuKJdk",
    "outputId": "42c88ec5-908a-493d-945b-efdb93d636b6"
   },
   "outputs": [],
   "source": [
    "X_train"
   ]
  },
  {
   "cell_type": "code",
   "execution_count": null,
   "id": "ONXsTIULKJgB",
   "metadata": {
    "colab": {
     "base_uri": "https://localhost:8080/"
    },
    "id": "ONXsTIULKJgB",
    "outputId": "1257e275-fb2e-4af7-d281-90cbaf1d8fed"
   },
   "outputs": [],
   "source": [
    "y_train"
   ]
  },
  {
   "cell_type": "markdown",
   "id": "mXfXR4kKLEcJ",
   "metadata": {
    "id": "mXfXR4kKLEcJ"
   },
   "source": [
    "### Scaler"
   ]
  },
  {
   "cell_type": "code",
   "execution_count": null,
   "id": "SU1BDnerKJiu",
   "metadata": {
    "id": "SU1BDnerKJiu"
   },
   "outputs": [],
   "source": [
    "scaler = StandardScaler()"
   ]
  },
  {
   "cell_type": "code",
   "execution_count": null,
   "id": "trndqLn9Cto9",
   "metadata": {
    "id": "trndqLn9Cto9"
   },
   "outputs": [],
   "source": [
    "X_train = scaler.fit_transform(X_train)\n",
    "X_test = scaler.transform(X_test)"
   ]
  },
  {
   "cell_type": "code",
   "execution_count": null,
   "id": "1YsRKIxrYyIX",
   "metadata": {
    "id": "1YsRKIxrYyIX"
   },
   "outputs": [],
   "source": [
    "def caluc_acc(model):\n",
    "  model_y_pred = model.predict(X_test)\n",
    "  train_score=model.score(X_train,y_train)\n",
    "  print(f'the accuracy of training is: {train_score*100}')\n",
    "  model_accuracy =round(r2_score(y_test, model_y_pred),3)*100  # use r2_score as the regression metric\n",
    "  print('{:s} : {:.0f}%'.format(model.__class__.__name__ , model_accuracy))"
   ]
  },
  {
   "cell_type": "markdown",
   "id": "-JAMMTQKSlNW",
   "metadata": {
    "id": "-JAMMTQKSlNW"
   },
   "source": [
    "### **Linear** *Regression*"
   ]
  },
  {
   "cell_type": "code",
   "execution_count": null,
   "id": "E_54pzAtx8AE",
   "metadata": {
    "colab": {
     "base_uri": "https://localhost:8080/",
     "height": 75
    },
    "id": "E_54pzAtx8AE",
    "outputId": "6dfc2169-7d62-4201-b3b6-5140f0dd0003"
   },
   "outputs": [],
   "source": [
    "lr_model  = LinearRegression()\n",
    "lr_model.fit(X_train, y_train)"
   ]
  },
  {
   "cell_type": "code",
   "execution_count": null,
   "id": "q-fi9F6Hsddq",
   "metadata": {
    "colab": {
     "base_uri": "https://localhost:8080/"
    },
    "id": "q-fi9F6Hsddq",
    "outputId": "bfdad956-74af-451f-80fc-2bd82b662805"
   },
   "outputs": [],
   "source": [
    "y_pred = lr_model.predict(X_test)\n",
    "y_pred"
   ]
  },
  {
   "cell_type": "code",
   "execution_count": null,
   "id": "9Q608puJyP6T",
   "metadata": {
    "colab": {
     "base_uri": "https://localhost:8080/"
    },
    "id": "9Q608puJyP6T",
    "outputId": "add8a31a-c80a-4092-df2c-0ccac4ecf520"
   },
   "outputs": [],
   "source": [
    "# y_pred = lr_model.predict(X_tesy)\n",
    "# lr_accuracy =round(r2_score(y_test, y_pred),3)*100  # use r2_score as the regression metric\n",
    "\n",
    "train_score=lr_model.score(X_train,y_train)\n",
    "test_score=lr_model.score(X_test,y_test)\n",
    "print(f'the accuracy of training is: {train_score*100}')\n",
    "print(f'the accuracy of testing is: {test_score}')"
   ]
  },
  {
   "cell_type": "markdown",
   "id": "Khjs4DilXpH2",
   "metadata": {
    "id": "Khjs4DilXpH2"
   },
   "source": [
    "### RandomForestRegressor\n",
    "\n"
   ]
  },
  {
   "cell_type": "code",
   "execution_count": null,
   "id": "PmISG4d7KIvq",
   "metadata": {
    "colab": {
     "base_uri": "https://localhost:8080/"
    },
    "id": "PmISG4d7KIvq",
    "outputId": "382af6fc-eae2-47dd-bf81-b87ea3d8f52b"
   },
   "outputs": [],
   "source": [
    "rfr=RandomForestRegressor(n_estimators=180)\n",
    "rfr.fit(X_train,y_train)\n",
    "train_score=rfr.score(X_train,y_train)\n",
    "test_score=rfr.score(X_test,y_test)\n",
    "print(f'the accuracy of training is: {train_score}')\n",
    "print(f'the accuracy of testing is: {test_score}')"
   ]
  },
  {
   "cell_type": "code",
   "execution_count": null,
   "id": "726EZCzA6weF",
   "metadata": {
    "colab": {
     "base_uri": "https://localhost:8080/"
    },
    "id": "726EZCzA6weF",
    "outputId": "4f2e21b6-dd46-4289-b37f-bd5417feed80"
   },
   "outputs": [],
   "source": [
    "scores = cross_val_score(rfr, X_train, y_train, scoring='r2', cv=5)\n",
    "scores"
   ]
  },
  {
   "cell_type": "markdown",
   "id": "1SpZ7NDKaRHA",
   "metadata": {
    "id": "1SpZ7NDKaRHA"
   },
   "source": [
    "### XGB Regressor"
   ]
  },
  {
   "cell_type": "code",
   "execution_count": null,
   "id": "x-vs6dqNUJNT",
   "metadata": {
    "colab": {
     "base_uri": "https://localhost:8080/",
     "height": 248
    },
    "id": "x-vs6dqNUJNT",
    "outputId": "afbd8b70-07f7-487c-9d35-437e0e3ee49a"
   },
   "outputs": [],
   "source": [
    "xgb = XGBRegressor(n_estimators=150,learning_rate=0.2)\n",
    "xgb.fit(X_train,y_train)"
   ]
  },
  {
   "cell_type": "code",
   "execution_count": null,
   "id": "KSLf-ImQdkG5",
   "metadata": {
    "colab": {
     "base_uri": "https://localhost:8080/"
    },
    "id": "KSLf-ImQdkG5",
    "outputId": "c1c2e008-9f0d-491e-986a-5da3956730c4"
   },
   "outputs": [],
   "source": [
    "yhat=xgb.predict(X_test)\n",
    "train_score=xgb.score(X_train,y_train)\n",
    "test_score=xgb.score(X_test,y_test)\n",
    "print(f'the accuracy of training is: {train_score}')\n",
    "print(f'the accuracy of testing is: {test_score}')"
   ]
  },
  {
   "cell_type": "markdown",
   "id": "wjO_v9_gLEh0",
   "metadata": {
    "id": "wjO_v9_gLEh0"
   },
   "source": [
    "### Grid Search"
   ]
  },
  {
   "cell_type": "code",
   "execution_count": null,
   "id": "P1LuDQO4_DQ8",
   "metadata": {
    "colab": {
     "background_save": true
    },
    "id": "P1LuDQO4_DQ8",
    "outputId": "ec98669f-00f8-4aae-d827-43ad32b43592"
   },
   "outputs": [],
   "source": [
    "param_grid = {\n",
    "    'learning_rate': [0.1, 0.01, 0.001],\n",
    "    'max_depth': [3, 5, 7],\n",
    "    'n_estimators': [100, 500, 1000],\n",
    "}\n",
    "grid_search = GridSearchCV(estimator=XGBRegressor(), param_grid=param_grid, scoring='neg_mean_squared_error', cv=5)\n",
    "grid_search.fit(X_train, y_train)  # X and y are your training data"
   ]
  },
  {
   "cell_type": "code",
   "execution_count": null,
   "id": "U176WHHA_DUw",
   "metadata": {
    "colab": {
     "background_save": true
    },
    "id": "U176WHHA_DUw"
   },
   "outputs": [],
   "source": [
    "best_params = grid_search.best_params_\n",
    "best_model = grid_search.best_estimator_"
   ]
  },
  {
   "cell_type": "code",
   "execution_count": null,
   "id": "mjx1R5nJKqNF",
   "metadata": {
    "colab": {
     "background_save": true
    },
    "id": "mjx1R5nJKqNF",
    "outputId": "3d100d7c-42c1-4b3e-8b2e-7d7b6119b98c"
   },
   "outputs": [],
   "source": [
    "best_params"
   ]
  },
  {
   "cell_type": "code",
   "execution_count": null,
   "id": "3peTa1k-Ks6Z",
   "metadata": {
    "colab": {
     "background_save": true
    },
    "id": "3peTa1k-Ks6Z",
    "outputId": "0ae1b024-257e-496a-b068-a990d1bd2a65"
   },
   "outputs": [],
   "source": [
    "best_model"
   ]
  },
  {
   "cell_type": "code",
   "execution_count": null,
   "id": "8KYcy6nM_eQZ",
   "metadata": {
    "colab": {
     "background_save": true
    },
    "id": "8KYcy6nM_eQZ",
    "outputId": "15eb1b10-8c0f-4448-bf5e-2657958876db"
   },
   "outputs": [],
   "source": [
    "y_pred = best_model.predict(X_test)  # X_test is your test data\n",
    "print('MAE: %.3f' % mean_absolute_error(y_test, y_pred))  "
   ]
  },
  {
   "cell_type": "markdown",
   "id": "hLZtFhPrLUS-",
   "metadata": {
    "id": "hLZtFhPrLUS-"
   },
   "source": [
    "### Best Model"
   ]
  },
  {
   "cell_type": "code",
   "execution_count": null,
   "id": "M3T1nLytLTXU",
   "metadata": {
    "colab": {
     "base_uri": "https://localhost:8080/",
     "height": 248
    },
    "id": "M3T1nLytLTXU",
    "outputId": "d5c6142a-5ef9-497b-9abb-e4d1d32b9863"
   },
   "outputs": [],
   "source": [
    "xgb = XGBRegressor(n_estimators=800,learning_rate=0.1,max_depth=5)\n",
    "xgb.fit(X_train,y_train)"
   ]
  },
  {
   "cell_type": "code",
   "execution_count": null,
   "id": "ARFTB7g8LbC5",
   "metadata": {
    "colab": {
     "base_uri": "https://localhost:8080/"
    },
    "id": "ARFTB7g8LbC5",
    "outputId": "c4d26eb9-7519-4394-9f66-5e978a099a4c"
   },
   "outputs": [],
   "source": [
    "yhat=xgb.predict(X_test)\n",
    "train_score=xgb.score(X_train,y_train)\n",
    "test_score=xgb.score(X_test,y_test)\n",
    "print(f'the accuracy of training is: {train_score}')\n",
    "print(f'the accuracy of testing is: {test_score}')"
   ]
  },
  {
   "cell_type": "code",
   "execution_count": null,
   "id": "568IK2PCLaG2",
   "metadata": {
    "colab": {
     "base_uri": "https://localhost:8080/"
    },
    "id": "568IK2PCLaG2",
    "outputId": "f6d50ac4-a6a7-4ac7-d881-cd259a237935"
   },
   "outputs": [],
   "source": [
    "mae = mean_absolute_error(y_test, yhat)\n",
    "print('MAE: %.3f' % mae)            "
   ]
  },
  {
   "cell_type": "code",
   "execution_count": null,
   "id": "83327eGOcm2o",
   "metadata": {
    "colab": {
     "base_uri": "https://localhost:8080/"
    },
    "id": "83327eGOcm2o",
    "outputId": "ce6bb902-2b79-48c3-9e8d-3c35a31d0ea9"
   },
   "outputs": [],
   "source": [
    "mse=mean_squared_error(y_test, yhat)\n",
    "mse"
   ]
  },
  {
   "cell_type": "code",
   "execution_count": null,
   "id": "1J9c9Ol_LaJK",
   "metadata": {
    "colab": {
     "base_uri": "https://localhost:8080/"
    },
    "id": "1J9c9Ol_LaJK",
    "outputId": "3c7ef559-93cf-41c2-9514-5bc1d028e5b3"
   },
   "outputs": [],
   "source": [
    "np.sqrt(mse)"
   ]
  },
  {
   "cell_type": "code",
   "execution_count": null,
   "id": "KryhNAycdJHB",
   "metadata": {
    "colab": {
     "base_uri": "https://localhost:8080/"
    },
    "id": "KryhNAycdJHB",
    "outputId": "c85008d3-2796-4a68-cc4f-96b4f20cff1c"
   },
   "outputs": [],
   "source": [
    "1976.6206567153217/df['price'].sum()"
   ]
  },
  {
   "cell_type": "code",
   "execution_count": null,
   "id": "yHdYqB31MxMq",
   "metadata": {
    "colab": {
     "base_uri": "https://localhost:8080/"
    },
    "id": "yHdYqB31MxMq",
    "outputId": "d1106a9c-4a87-4a06-b3fb-047184ba6615"
   },
   "outputs": [],
   "source": [
    "mean_absolute_percentage_error(yhat,y_test)"
   ]
  },
  {
   "cell_type": "code",
   "execution_count": null,
   "id": "DyT0bu9eMxPT",
   "metadata": {
    "colab": {
     "base_uri": "https://localhost:8080/"
    },
    "id": "DyT0bu9eMxPT",
    "outputId": "e3254412-e13b-4000-994c-7afcce9aea86"
   },
   "outputs": [],
   "source": [
    "r2_score(yhat,y_test)"
   ]
  },
  {
   "cell_type": "code",
   "execution_count": null,
   "id": "htWUH8xddvI4",
   "metadata": {
    "colab": {
     "base_uri": "https://localhost:8080/",
     "height": 424
    },
    "id": "htWUH8xddvI4",
    "outputId": "2027889e-6797-4e2b-c4c4-1489f576d005"
   },
   "outputs": [],
   "source": [
    "output_2 = pd.DataFrame({'Price': yhat, 'real_price': y_test})\n",
    "output_2"
   ]
  },
  {
   "cell_type": "code",
   "execution_count": null,
   "id": "os2WHhx8MxSR",
   "metadata": {
    "id": "os2WHhx8MxSR"
   },
   "outputs": [],
   "source": [
    "scores = cross_val_score(xgb, x, y, scoring='r2', cv=10)"
   ]
  },
  {
   "cell_type": "code",
   "execution_count": null,
   "id": "PzrXrpM9MxU2",
   "metadata": {
    "colab": {
     "base_uri": "https://localhost:8080/"
    },
    "id": "PzrXrpM9MxU2",
    "outputId": "a6214b14-f080-4d96-b609-16c5f5ef329e"
   },
   "outputs": [],
   "source": [
    "scores"
   ]
  },
  {
   "cell_type": "code",
   "execution_count": null,
   "id": "NtxIOO7cgHZU",
   "metadata": {
    "colab": {
     "base_uri": "https://localhost:8080/",
     "height": 449
    },
    "id": "NtxIOO7cgHZU",
    "outputId": "7cfac05d-fd86-45bd-dd1a-bb712d22dfaf"
   },
   "outputs": [],
   "source": [
    "plt.scatter(yhat, y_test)\n",
    "plt.xlabel('Predicted values')\n",
    "plt.ylabel('Actual values')\n",
    "plt.show()"
   ]
  }
 ],
 "metadata": {
  "colab": {
   "collapsed_sections": [
    "elsd6Keoft_P"
   ],
   "provenance": [],
   "toc_visible": true
  },
  "kernelspec": {
   "display_name": "Python 3 (ipykernel)",
   "language": "python",
   "name": "python3"
  },
  "language_info": {
   "codemirror_mode": {
    "name": "ipython",
    "version": 3
   },
   "file_extension": ".py",
   "mimetype": "text/x-python",
   "name": "python",
   "nbconvert_exporter": "python",
   "pygments_lexer": "ipython3",
   "version": "3.11.3"
  },
  "widgets": {
   "application/vnd.jupyter.widget-state+json": {
    "state": {},
    "version_major": 2,
    "version_minor": 0
   }
  }
 },
 "nbformat": 4,
 "nbformat_minor": 5
}
